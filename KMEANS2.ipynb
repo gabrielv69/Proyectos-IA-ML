{
  "nbformat": 4,
  "nbformat_minor": 0,
  "metadata": {
    "colab": {
      "provenance": [],
      "collapsed_sections": []
    },
    "kernelspec": {
      "name": "python3",
      "display_name": "Python 3"
    },
    "language_info": {
      "name": "python"
    },
    "accelerator": "TPU"
  },
  "cells": [
    {
      "cell_type": "code",
      "metadata": {
        "colab": {
          "base_uri": "https://localhost:8080/"
        },
        "id": "YjRTIZsAwwsI",
        "outputId": "3a8b7cf6-9007-4c5f-f59f-6c56eadd0ed3"
      },
      "source": [
        "import pandas as pd\n",
        "import numpy as np\n",
        "import seaborn as sns\n",
        "import matplotlib.pyplot as plt\n",
        "import seaborn as sb\n",
        "from sklearn.cluster import KMeans\n",
        "import scipy.cluster.hierarchy as sch\n",
        "from mpl_toolkits.mplot3d import Axes3D\n",
        "from sklearn.metrics import silhouette_samples, silhouette_score\n",
        "from yellowbrick.cluster import SilhouetteVisualizer"
      ],
      "execution_count": null,
      "outputs": [
        {
          "output_type": "stream",
          "text": [
            "/usr/local/lib/python3.7/dist-packages/sklearn/utils/deprecation.py:144: FutureWarning: The sklearn.metrics.classification module is  deprecated in version 0.22 and will be removed in version 0.24. The corresponding classes / functions should instead be imported from sklearn.metrics. Anything that cannot be imported from sklearn.metrics is now part of the private API.\n",
            "  warnings.warn(message, FutureWarning)\n"
          ],
          "name": "stderr"
        }
      ]
    },
    {
      "cell_type": "code",
      "metadata": {
        "id": "RnNr-RBChw6t"
      },
      "source": [
        "df = pd.read_csv('glass.csv')"
      ],
      "execution_count": null,
      "outputs": []
    },
    {
      "cell_type": "code",
      "metadata": {
        "colab": {
          "base_uri": "https://localhost:8080/",
          "height": 424
        },
        "id": "QJBdFvaFxNQt",
        "outputId": "027e6faa-dfc3-4007-93a6-68ee86699f67"
      },
      "source": [
        "df"
      ],
      "execution_count": null,
      "outputs": [
        {
          "output_type": "execute_result",
          "data": {
            "text/html": [
              "<div>\n",
              "<style scoped>\n",
              "    .dataframe tbody tr th:only-of-type {\n",
              "        vertical-align: middle;\n",
              "    }\n",
              "\n",
              "    .dataframe tbody tr th {\n",
              "        vertical-align: top;\n",
              "    }\n",
              "\n",
              "    .dataframe thead th {\n",
              "        text-align: right;\n",
              "    }\n",
              "</style>\n",
              "<table border=\"1\" class=\"dataframe\">\n",
              "  <thead>\n",
              "    <tr style=\"text-align: right;\">\n",
              "      <th></th>\n",
              "      <th>RI</th>\n",
              "      <th>Na</th>\n",
              "      <th>Mg</th>\n",
              "      <th>Al</th>\n",
              "      <th>Si</th>\n",
              "      <th>K</th>\n",
              "      <th>Ca</th>\n",
              "      <th>Ba</th>\n",
              "      <th>Fe</th>\n",
              "      <th>Type</th>\n",
              "    </tr>\n",
              "  </thead>\n",
              "  <tbody>\n",
              "    <tr>\n",
              "      <th>0</th>\n",
              "      <td>1.52101</td>\n",
              "      <td>13.64</td>\n",
              "      <td>4.49</td>\n",
              "      <td>1.10</td>\n",
              "      <td>71.78</td>\n",
              "      <td>0.06</td>\n",
              "      <td>8.75</td>\n",
              "      <td>0.00</td>\n",
              "      <td>0.0</td>\n",
              "      <td>1</td>\n",
              "    </tr>\n",
              "    <tr>\n",
              "      <th>1</th>\n",
              "      <td>1.51761</td>\n",
              "      <td>13.89</td>\n",
              "      <td>3.60</td>\n",
              "      <td>1.36</td>\n",
              "      <td>72.73</td>\n",
              "      <td>0.48</td>\n",
              "      <td>7.83</td>\n",
              "      <td>0.00</td>\n",
              "      <td>0.0</td>\n",
              "      <td>1</td>\n",
              "    </tr>\n",
              "    <tr>\n",
              "      <th>2</th>\n",
              "      <td>1.51618</td>\n",
              "      <td>13.53</td>\n",
              "      <td>3.55</td>\n",
              "      <td>1.54</td>\n",
              "      <td>72.99</td>\n",
              "      <td>0.39</td>\n",
              "      <td>7.78</td>\n",
              "      <td>0.00</td>\n",
              "      <td>0.0</td>\n",
              "      <td>1</td>\n",
              "    </tr>\n",
              "    <tr>\n",
              "      <th>3</th>\n",
              "      <td>1.51766</td>\n",
              "      <td>13.21</td>\n",
              "      <td>3.69</td>\n",
              "      <td>1.29</td>\n",
              "      <td>72.61</td>\n",
              "      <td>0.57</td>\n",
              "      <td>8.22</td>\n",
              "      <td>0.00</td>\n",
              "      <td>0.0</td>\n",
              "      <td>1</td>\n",
              "    </tr>\n",
              "    <tr>\n",
              "      <th>4</th>\n",
              "      <td>1.51742</td>\n",
              "      <td>13.27</td>\n",
              "      <td>3.62</td>\n",
              "      <td>1.24</td>\n",
              "      <td>73.08</td>\n",
              "      <td>0.55</td>\n",
              "      <td>8.07</td>\n",
              "      <td>0.00</td>\n",
              "      <td>0.0</td>\n",
              "      <td>1</td>\n",
              "    </tr>\n",
              "    <tr>\n",
              "      <th>...</th>\n",
              "      <td>...</td>\n",
              "      <td>...</td>\n",
              "      <td>...</td>\n",
              "      <td>...</td>\n",
              "      <td>...</td>\n",
              "      <td>...</td>\n",
              "      <td>...</td>\n",
              "      <td>...</td>\n",
              "      <td>...</td>\n",
              "      <td>...</td>\n",
              "    </tr>\n",
              "    <tr>\n",
              "      <th>209</th>\n",
              "      <td>1.51623</td>\n",
              "      <td>14.14</td>\n",
              "      <td>0.00</td>\n",
              "      <td>2.88</td>\n",
              "      <td>72.61</td>\n",
              "      <td>0.08</td>\n",
              "      <td>9.18</td>\n",
              "      <td>1.06</td>\n",
              "      <td>0.0</td>\n",
              "      <td>7</td>\n",
              "    </tr>\n",
              "    <tr>\n",
              "      <th>210</th>\n",
              "      <td>1.51685</td>\n",
              "      <td>14.92</td>\n",
              "      <td>0.00</td>\n",
              "      <td>1.99</td>\n",
              "      <td>73.06</td>\n",
              "      <td>0.00</td>\n",
              "      <td>8.40</td>\n",
              "      <td>1.59</td>\n",
              "      <td>0.0</td>\n",
              "      <td>7</td>\n",
              "    </tr>\n",
              "    <tr>\n",
              "      <th>211</th>\n",
              "      <td>1.52065</td>\n",
              "      <td>14.36</td>\n",
              "      <td>0.00</td>\n",
              "      <td>2.02</td>\n",
              "      <td>73.42</td>\n",
              "      <td>0.00</td>\n",
              "      <td>8.44</td>\n",
              "      <td>1.64</td>\n",
              "      <td>0.0</td>\n",
              "      <td>7</td>\n",
              "    </tr>\n",
              "    <tr>\n",
              "      <th>212</th>\n",
              "      <td>1.51651</td>\n",
              "      <td>14.38</td>\n",
              "      <td>0.00</td>\n",
              "      <td>1.94</td>\n",
              "      <td>73.61</td>\n",
              "      <td>0.00</td>\n",
              "      <td>8.48</td>\n",
              "      <td>1.57</td>\n",
              "      <td>0.0</td>\n",
              "      <td>7</td>\n",
              "    </tr>\n",
              "    <tr>\n",
              "      <th>213</th>\n",
              "      <td>1.51711</td>\n",
              "      <td>14.23</td>\n",
              "      <td>0.00</td>\n",
              "      <td>2.08</td>\n",
              "      <td>73.36</td>\n",
              "      <td>0.00</td>\n",
              "      <td>8.62</td>\n",
              "      <td>1.67</td>\n",
              "      <td>0.0</td>\n",
              "      <td>7</td>\n",
              "    </tr>\n",
              "  </tbody>\n",
              "</table>\n",
              "<p>214 rows × 10 columns</p>\n",
              "</div>"
            ],
            "text/plain": [
              "          RI     Na    Mg    Al     Si     K    Ca    Ba   Fe  Type\n",
              "0    1.52101  13.64  4.49  1.10  71.78  0.06  8.75  0.00  0.0     1\n",
              "1    1.51761  13.89  3.60  1.36  72.73  0.48  7.83  0.00  0.0     1\n",
              "2    1.51618  13.53  3.55  1.54  72.99  0.39  7.78  0.00  0.0     1\n",
              "3    1.51766  13.21  3.69  1.29  72.61  0.57  8.22  0.00  0.0     1\n",
              "4    1.51742  13.27  3.62  1.24  73.08  0.55  8.07  0.00  0.0     1\n",
              "..       ...    ...   ...   ...    ...   ...   ...   ...  ...   ...\n",
              "209  1.51623  14.14  0.00  2.88  72.61  0.08  9.18  1.06  0.0     7\n",
              "210  1.51685  14.92  0.00  1.99  73.06  0.00  8.40  1.59  0.0     7\n",
              "211  1.52065  14.36  0.00  2.02  73.42  0.00  8.44  1.64  0.0     7\n",
              "212  1.51651  14.38  0.00  1.94  73.61  0.00  8.48  1.57  0.0     7\n",
              "213  1.51711  14.23  0.00  2.08  73.36  0.00  8.62  1.67  0.0     7\n",
              "\n",
              "[214 rows x 10 columns]"
            ]
          },
          "metadata": {
            "tags": []
          },
          "execution_count": 3
        }
      ]
    },
    {
      "cell_type": "code",
      "metadata": {
        "colab": {
          "base_uri": "https://localhost:8080/",
          "height": 300
        },
        "id": "4DFicDECxa1b",
        "outputId": "e1af358f-6c93-4ee0-84e6-badf1205dc2a"
      },
      "source": [
        "df.describe() # Me interesa que la desviacion sea grande. pa poder clusterizar"
      ],
      "execution_count": null,
      "outputs": [
        {
          "output_type": "execute_result",
          "data": {
            "text/html": [
              "<div>\n",
              "<style scoped>\n",
              "    .dataframe tbody tr th:only-of-type {\n",
              "        vertical-align: middle;\n",
              "    }\n",
              "\n",
              "    .dataframe tbody tr th {\n",
              "        vertical-align: top;\n",
              "    }\n",
              "\n",
              "    .dataframe thead th {\n",
              "        text-align: right;\n",
              "    }\n",
              "</style>\n",
              "<table border=\"1\" class=\"dataframe\">\n",
              "  <thead>\n",
              "    <tr style=\"text-align: right;\">\n",
              "      <th></th>\n",
              "      <th>RI</th>\n",
              "      <th>Na</th>\n",
              "      <th>Mg</th>\n",
              "      <th>Al</th>\n",
              "      <th>Si</th>\n",
              "      <th>K</th>\n",
              "      <th>Ca</th>\n",
              "      <th>Ba</th>\n",
              "      <th>Fe</th>\n",
              "      <th>Type</th>\n",
              "    </tr>\n",
              "  </thead>\n",
              "  <tbody>\n",
              "    <tr>\n",
              "      <th>count</th>\n",
              "      <td>214.000000</td>\n",
              "      <td>214.000000</td>\n",
              "      <td>214.000000</td>\n",
              "      <td>214.000000</td>\n",
              "      <td>214.000000</td>\n",
              "      <td>214.000000</td>\n",
              "      <td>214.000000</td>\n",
              "      <td>214.000000</td>\n",
              "      <td>214.000000</td>\n",
              "      <td>214.000000</td>\n",
              "    </tr>\n",
              "    <tr>\n",
              "      <th>mean</th>\n",
              "      <td>1.518365</td>\n",
              "      <td>13.407850</td>\n",
              "      <td>2.684533</td>\n",
              "      <td>1.444907</td>\n",
              "      <td>72.650935</td>\n",
              "      <td>0.497056</td>\n",
              "      <td>8.956963</td>\n",
              "      <td>0.175047</td>\n",
              "      <td>0.057009</td>\n",
              "      <td>2.780374</td>\n",
              "    </tr>\n",
              "    <tr>\n",
              "      <th>std</th>\n",
              "      <td>0.003037</td>\n",
              "      <td>0.816604</td>\n",
              "      <td>1.442408</td>\n",
              "      <td>0.499270</td>\n",
              "      <td>0.774546</td>\n",
              "      <td>0.652192</td>\n",
              "      <td>1.423153</td>\n",
              "      <td>0.497219</td>\n",
              "      <td>0.097439</td>\n",
              "      <td>2.103739</td>\n",
              "    </tr>\n",
              "    <tr>\n",
              "      <th>min</th>\n",
              "      <td>1.511150</td>\n",
              "      <td>10.730000</td>\n",
              "      <td>0.000000</td>\n",
              "      <td>0.290000</td>\n",
              "      <td>69.810000</td>\n",
              "      <td>0.000000</td>\n",
              "      <td>5.430000</td>\n",
              "      <td>0.000000</td>\n",
              "      <td>0.000000</td>\n",
              "      <td>1.000000</td>\n",
              "    </tr>\n",
              "    <tr>\n",
              "      <th>25%</th>\n",
              "      <td>1.516523</td>\n",
              "      <td>12.907500</td>\n",
              "      <td>2.115000</td>\n",
              "      <td>1.190000</td>\n",
              "      <td>72.280000</td>\n",
              "      <td>0.122500</td>\n",
              "      <td>8.240000</td>\n",
              "      <td>0.000000</td>\n",
              "      <td>0.000000</td>\n",
              "      <td>1.000000</td>\n",
              "    </tr>\n",
              "    <tr>\n",
              "      <th>50%</th>\n",
              "      <td>1.517680</td>\n",
              "      <td>13.300000</td>\n",
              "      <td>3.480000</td>\n",
              "      <td>1.360000</td>\n",
              "      <td>72.790000</td>\n",
              "      <td>0.555000</td>\n",
              "      <td>8.600000</td>\n",
              "      <td>0.000000</td>\n",
              "      <td>0.000000</td>\n",
              "      <td>2.000000</td>\n",
              "    </tr>\n",
              "    <tr>\n",
              "      <th>75%</th>\n",
              "      <td>1.519157</td>\n",
              "      <td>13.825000</td>\n",
              "      <td>3.600000</td>\n",
              "      <td>1.630000</td>\n",
              "      <td>73.087500</td>\n",
              "      <td>0.610000</td>\n",
              "      <td>9.172500</td>\n",
              "      <td>0.000000</td>\n",
              "      <td>0.100000</td>\n",
              "      <td>3.000000</td>\n",
              "    </tr>\n",
              "    <tr>\n",
              "      <th>max</th>\n",
              "      <td>1.533930</td>\n",
              "      <td>17.380000</td>\n",
              "      <td>4.490000</td>\n",
              "      <td>3.500000</td>\n",
              "      <td>75.410000</td>\n",
              "      <td>6.210000</td>\n",
              "      <td>16.190000</td>\n",
              "      <td>3.150000</td>\n",
              "      <td>0.510000</td>\n",
              "      <td>7.000000</td>\n",
              "    </tr>\n",
              "  </tbody>\n",
              "</table>\n",
              "</div>"
            ],
            "text/plain": [
              "               RI          Na          Mg  ...          Ba          Fe        Type\n",
              "count  214.000000  214.000000  214.000000  ...  214.000000  214.000000  214.000000\n",
              "mean     1.518365   13.407850    2.684533  ...    0.175047    0.057009    2.780374\n",
              "std      0.003037    0.816604    1.442408  ...    0.497219    0.097439    2.103739\n",
              "min      1.511150   10.730000    0.000000  ...    0.000000    0.000000    1.000000\n",
              "25%      1.516523   12.907500    2.115000  ...    0.000000    0.000000    1.000000\n",
              "50%      1.517680   13.300000    3.480000  ...    0.000000    0.000000    2.000000\n",
              "75%      1.519157   13.825000    3.600000  ...    0.000000    0.100000    3.000000\n",
              "max      1.533930   17.380000    4.490000  ...    3.150000    0.510000    7.000000\n",
              "\n",
              "[8 rows x 10 columns]"
            ]
          },
          "metadata": {
            "tags": []
          },
          "execution_count": 4
        }
      ]
    },
    {
      "cell_type": "code",
      "metadata": {
        "colab": {
          "base_uri": "https://localhost:8080/"
        },
        "id": "HKTJF0cdxcN0",
        "outputId": "3e9a5e4f-4b41-4edf-9c79-e37c45f1ba51"
      },
      "source": [
        "df.info()"
      ],
      "execution_count": null,
      "outputs": [
        {
          "output_type": "stream",
          "text": [
            "<class 'pandas.core.frame.DataFrame'>\n",
            "RangeIndex: 214 entries, 0 to 213\n",
            "Data columns (total 10 columns):\n",
            " #   Column  Non-Null Count  Dtype  \n",
            "---  ------  --------------  -----  \n",
            " 0   RI      214 non-null    float64\n",
            " 1   Na      214 non-null    float64\n",
            " 2   Mg      214 non-null    float64\n",
            " 3   Al      214 non-null    float64\n",
            " 4   Si      214 non-null    float64\n",
            " 5   K       214 non-null    float64\n",
            " 6   Ca      214 non-null    float64\n",
            " 7   Ba      214 non-null    float64\n",
            " 8   Fe      214 non-null    float64\n",
            " 9   Type    214 non-null    int64  \n",
            "dtypes: float64(9), int64(1)\n",
            "memory usage: 16.8 KB\n"
          ],
          "name": "stdout"
        }
      ]
    },
    {
      "cell_type": "code",
      "metadata": {
        "colab": {
          "base_uri": "https://localhost:8080/",
          "height": 1000
        },
        "id": "rWJdMISrxgNS",
        "outputId": "1fddd65e-f909-4d47-9a3f-cc379462dbf0"
      },
      "source": [
        "df.hist(figsize = (15,15))"
      ],
      "execution_count": null,
      "outputs": [
        {
          "output_type": "execute_result",
          "data": {
            "text/plain": [
              "array([[<matplotlib.axes._subplots.AxesSubplot object at 0x7f8888b7ca90>,\n",
              "        <matplotlib.axes._subplots.AxesSubplot object at 0x7f8888b51490>,\n",
              "        <matplotlib.axes._subplots.AxesSubplot object at 0x7f8888b09b10>],\n",
              "       [<matplotlib.axes._subplots.AxesSubplot object at 0x7f8888ac71d0>,\n",
              "        <matplotlib.axes._subplots.AxesSubplot object at 0x7f8888a81850>,\n",
              "        <matplotlib.axes._subplots.AxesSubplot object at 0x7f8888a33ed0>],\n",
              "       [<matplotlib.axes._subplots.AxesSubplot object at 0x7f88889f5590>,\n",
              "        <matplotlib.axes._subplots.AxesSubplot object at 0x7f8888a2ac10>,\n",
              "        <matplotlib.axes._subplots.AxesSubplot object at 0x7f8888b991d0>],\n",
              "       [<matplotlib.axes._subplots.AxesSubplot object at 0x7f88889c6210>,\n",
              "        <matplotlib.axes._subplots.AxesSubplot object at 0x7f8888953790>,\n",
              "        <matplotlib.axes._subplots.AxesSubplot object at 0x7f8888907e10>]],\n",
              "      dtype=object)"
            ]
          },
          "metadata": {
            "tags": []
          },
          "execution_count": 6
        },
        {
          "output_type": "display_data",
          "data": {
            "image/png": "[encoded data removed]",
            "text/plain": [
              "<Figure size 1080x1080 with 12 Axes>"
            ]
          },
          "metadata": {
            "tags": [],
            "needs_background": "light"
          }
        }
      ]
    },
    {
      "cell_type": "code",
      "metadata": {
        "id": "NuJ1ddR4x4Sm"
      },
      "source": [
        "df['ID']=df.index+1000"
      ],
      "execution_count": null,
      "outputs": []
    },
    {
      "cell_type": "code",
      "metadata": {
        "id": "mUu73PsNyW1D"
      },
      "source": [
        "df= df.drop(['Type'],axis=1)"
      ],
      "execution_count": null,
      "outputs": []
    },
    {
      "cell_type": "code",
      "metadata": {
        "colab": {
          "base_uri": "https://localhost:8080/",
          "height": 424
        },
        "id": "-V3_Fh2iyPp0",
        "outputId": "755c2a69-7382-403f-bad1-9787a32809fa"
      },
      "source": [
        "df"
      ],
      "execution_count": null,
      "outputs": [
        {
          "output_type": "execute_result",
          "data": {
            "text/html": [
              "<div>\n",
              "<style scoped>\n",
              "    .dataframe tbody tr th:only-of-type {\n",
              "        vertical-align: middle;\n",
              "    }\n",
              "\n",
              "    .dataframe tbody tr th {\n",
              "        vertical-align: top;\n",
              "    }\n",
              "\n",
              "    .dataframe thead th {\n",
              "        text-align: right;\n",
              "    }\n",
              "</style>\n",
              "<table border=\"1\" class=\"dataframe\">\n",
              "  <thead>\n",
              "    <tr style=\"text-align: right;\">\n",
              "      <th></th>\n",
              "      <th>RI</th>\n",
              "      <th>Na</th>\n",
              "      <th>Mg</th>\n",
              "      <th>Al</th>\n",
              "      <th>Si</th>\n",
              "      <th>K</th>\n",
              "      <th>Ca</th>\n",
              "      <th>Ba</th>\n",
              "      <th>Fe</th>\n",
              "      <th>ID</th>\n",
              "    </tr>\n",
              "  </thead>\n",
              "  <tbody>\n",
              "    <tr>\n",
              "      <th>0</th>\n",
              "      <td>1.52101</td>\n",
              "      <td>13.64</td>\n",
              "      <td>4.49</td>\n",
              "      <td>1.10</td>\n",
              "      <td>71.78</td>\n",
              "      <td>0.06</td>\n",
              "      <td>8.75</td>\n",
              "      <td>0.00</td>\n",
              "      <td>0.0</td>\n",
              "      <td>1000</td>\n",
              "    </tr>\n",
              "    <tr>\n",
              "      <th>1</th>\n",
              "      <td>1.51761</td>\n",
              "      <td>13.89</td>\n",
              "      <td>3.60</td>\n",
              "      <td>1.36</td>\n",
              "      <td>72.73</td>\n",
              "      <td>0.48</td>\n",
              "      <td>7.83</td>\n",
              "      <td>0.00</td>\n",
              "      <td>0.0</td>\n",
              "      <td>1001</td>\n",
              "    </tr>\n",
              "    <tr>\n",
              "      <th>2</th>\n",
              "      <td>1.51618</td>\n",
              "      <td>13.53</td>\n",
              "      <td>3.55</td>\n",
              "      <td>1.54</td>\n",
              "      <td>72.99</td>\n",
              "      <td>0.39</td>\n",
              "      <td>7.78</td>\n",
              "      <td>0.00</td>\n",
              "      <td>0.0</td>\n",
              "      <td>1002</td>\n",
              "    </tr>\n",
              "    <tr>\n",
              "      <th>3</th>\n",
              "      <td>1.51766</td>\n",
              "      <td>13.21</td>\n",
              "      <td>3.69</td>\n",
              "      <td>1.29</td>\n",
              "      <td>72.61</td>\n",
              "      <td>0.57</td>\n",
              "      <td>8.22</td>\n",
              "      <td>0.00</td>\n",
              "      <td>0.0</td>\n",
              "      <td>1003</td>\n",
              "    </tr>\n",
              "    <tr>\n",
              "      <th>4</th>\n",
              "      <td>1.51742</td>\n",
              "      <td>13.27</td>\n",
              "      <td>3.62</td>\n",
              "      <td>1.24</td>\n",
              "      <td>73.08</td>\n",
              "      <td>0.55</td>\n",
              "      <td>8.07</td>\n",
              "      <td>0.00</td>\n",
              "      <td>0.0</td>\n",
              "      <td>1004</td>\n",
              "    </tr>\n",
              "    <tr>\n",
              "      <th>...</th>\n",
              "      <td>...</td>\n",
              "      <td>...</td>\n",
              "      <td>...</td>\n",
              "      <td>...</td>\n",
              "      <td>...</td>\n",
              "      <td>...</td>\n",
              "      <td>...</td>\n",
              "      <td>...</td>\n",
              "      <td>...</td>\n",
              "      <td>...</td>\n",
              "    </tr>\n",
              "    <tr>\n",
              "      <th>209</th>\n",
              "      <td>1.51623</td>\n",
              "      <td>14.14</td>\n",
              "      <td>0.00</td>\n",
              "      <td>2.88</td>\n",
              "      <td>72.61</td>\n",
              "      <td>0.08</td>\n",
              "      <td>9.18</td>\n",
              "      <td>1.06</td>\n",
              "      <td>0.0</td>\n",
              "      <td>1209</td>\n",
              "    </tr>\n",
              "    <tr>\n",
              "      <th>210</th>\n",
              "      <td>1.51685</td>\n",
              "      <td>14.92</td>\n",
              "      <td>0.00</td>\n",
              "      <td>1.99</td>\n",
              "      <td>73.06</td>\n",
              "      <td>0.00</td>\n",
              "      <td>8.40</td>\n",
              "      <td>1.59</td>\n",
              "      <td>0.0</td>\n",
              "      <td>1210</td>\n",
              "    </tr>\n",
              "    <tr>\n",
              "      <th>211</th>\n",
              "      <td>1.52065</td>\n",
              "      <td>14.36</td>\n",
              "      <td>0.00</td>\n",
              "      <td>2.02</td>\n",
              "      <td>73.42</td>\n",
              "      <td>0.00</td>\n",
              "      <td>8.44</td>\n",
              "      <td>1.64</td>\n",
              "      <td>0.0</td>\n",
              "      <td>1211</td>\n",
              "    </tr>\n",
              "    <tr>\n",
              "      <th>212</th>\n",
              "      <td>1.51651</td>\n",
              "      <td>14.38</td>\n",
              "      <td>0.00</td>\n",
              "      <td>1.94</td>\n",
              "      <td>73.61</td>\n",
              "      <td>0.00</td>\n",
              "      <td>8.48</td>\n",
              "      <td>1.57</td>\n",
              "      <td>0.0</td>\n",
              "      <td>1212</td>\n",
              "    </tr>\n",
              "    <tr>\n",
              "      <th>213</th>\n",
              "      <td>1.51711</td>\n",
              "      <td>14.23</td>\n",
              "      <td>0.00</td>\n",
              "      <td>2.08</td>\n",
              "      <td>73.36</td>\n",
              "      <td>0.00</td>\n",
              "      <td>8.62</td>\n",
              "      <td>1.67</td>\n",
              "      <td>0.0</td>\n",
              "      <td>1213</td>\n",
              "    </tr>\n",
              "  </tbody>\n",
              "</table>\n",
              "<p>214 rows × 10 columns</p>\n",
              "</div>"
            ],
            "text/plain": [
              "          RI     Na    Mg    Al     Si     K    Ca    Ba   Fe    ID\n",
              "0    1.52101  13.64  4.49  1.10  71.78  0.06  8.75  0.00  0.0  1000\n",
              "1    1.51761  13.89  3.60  1.36  72.73  0.48  7.83  0.00  0.0  1001\n",
              "2    1.51618  13.53  3.55  1.54  72.99  0.39  7.78  0.00  0.0  1002\n",
              "3    1.51766  13.21  3.69  1.29  72.61  0.57  8.22  0.00  0.0  1003\n",
              "4    1.51742  13.27  3.62  1.24  73.08  0.55  8.07  0.00  0.0  1004\n",
              "..       ...    ...   ...   ...    ...   ...   ...   ...  ...   ...\n",
              "209  1.51623  14.14  0.00  2.88  72.61  0.08  9.18  1.06  0.0  1209\n",
              "210  1.51685  14.92  0.00  1.99  73.06  0.00  8.40  1.59  0.0  1210\n",
              "211  1.52065  14.36  0.00  2.02  73.42  0.00  8.44  1.64  0.0  1211\n",
              "212  1.51651  14.38  0.00  1.94  73.61  0.00  8.48  1.57  0.0  1212\n",
              "213  1.51711  14.23  0.00  2.08  73.36  0.00  8.62  1.67  0.0  1213\n",
              "\n",
              "[214 rows x 10 columns]"
            ]
          },
          "metadata": {
            "tags": []
          },
          "execution_count": 10
        }
      ]
    },
    {
      "cell_type": "code",
      "metadata": {
        "colab": {
          "base_uri": "https://localhost:8080/"
        },
        "id": "1eiw1VBkydy0",
        "outputId": "82b883a1-3554-483b-f9d7-283220735d4e"
      },
      "source": [
        "f=df.columns[:-1]\n",
        "list(enumerate(f))"
      ],
      "execution_count": null,
      "outputs": [
        {
          "output_type": "execute_result",
          "data": {
            "text/plain": [
              "[(0, 'RI'),\n",
              " (1, 'Na'),\n",
              " (2, 'Mg'),\n",
              " (3, 'Al'),\n",
              " (4, 'Si'),\n",
              " (5, 'K'),\n",
              " (6, 'Ca'),\n",
              " (7, 'Ba'),\n",
              " (8, 'Fe')]"
            ]
          },
          "metadata": {
            "tags": []
          },
          "execution_count": 14
        }
      ]
    },
    {
      "cell_type": "code",
      "metadata": {
        "colab": {
          "base_uri": "https://localhost:8080/",
          "height": 877
        },
        "id": "gq23AYxyypYb",
        "outputId": "12685911-7de7-4b3a-9b11-a28bfe5762ea"
      },
      "source": [
        "plt.figure(figsize=(15,15))\n",
        "for i in enumerate(f):\n",
        "  plt.subplot(3,3,i[0]+1)\n",
        "  sns.boxplot(x=i[1],data=df)"
      ],
      "execution_count": null,
      "outputs": [
        {
          "output_type": "display_data",
          "data": {
            "image/png": "[encoded data removed]",
            "text/plain": [
              "<Figure size 1080x1080 with 9 Axes>"
            ]
          },
          "metadata": {
            "tags": [],
            "needs_background": "light"
          }
        }
      ]
    },
    {
      "cell_type": "code",
      "metadata": {
        "colab": {
          "base_uri": "https://localhost:8080/"
        },
        "id": "2s8MlECr0Wvv",
        "outputId": "b43c44eb-8bde-4106-f978-0ddf8328c460"
      },
      "source": [
        "for i in f:\n",
        "  q1= df[i].quantile(0.01)\n",
        "  q4= df[i].quantile(0.99)\n",
        "  df[i][df[i]<=q1] =q1\n",
        "  df[i][df[i]>=q4] =q4"
      ],
      "execution_count": null,
      "outputs": [
        {
          "output_type": "stream",
          "text": [
            "/usr/local/lib/python3.7/dist-packages/ipykernel_launcher.py:4: SettingWithCopyWarning: \n",
            "A value is trying to be set on a copy of a slice from a DataFrame\n",
            "\n",
            "See the caveats in the documentation: https://pandas.pydata.org/pandas-docs/stable/user_guide/indexing.html#returning-a-view-versus-a-copy\n",
            "  after removing the cwd from sys.path.\n",
            "/usr/local/lib/python3.7/dist-packages/ipykernel_launcher.py:5: SettingWithCopyWarning: \n",
            "A value is trying to be set on a copy of a slice from a DataFrame\n",
            "\n",
            "See the caveats in the documentation: https://pandas.pydata.org/pandas-docs/stable/user_guide/indexing.html#returning-a-view-versus-a-copy\n",
            "  \"\"\"\n",
            "/usr/local/lib/python3.7/dist-packages/ipykernel_launcher.py:4: SettingWithCopyWarning: \n",
            "A value is trying to be set on a copy of a slice from a DataFrame\n",
            "\n",
            "See the caveats in the documentation: https://pandas.pydata.org/pandas-docs/stable/user_guide/indexing.html#returning-a-view-versus-a-copy\n",
            "  after removing the cwd from sys.path.\n",
            "/usr/local/lib/python3.7/dist-packages/ipykernel_launcher.py:5: SettingWithCopyWarning: \n",
            "A value is trying to be set on a copy of a slice from a DataFrame\n",
            "\n",
            "See the caveats in the documentation: https://pandas.pydata.org/pandas-docs/stable/user_guide/indexing.html#returning-a-view-versus-a-copy\n",
            "  \"\"\"\n",
            "/usr/local/lib/python3.7/dist-packages/ipykernel_launcher.py:4: SettingWithCopyWarning: \n",
            "A value is trying to be set on a copy of a slice from a DataFrame\n",
            "\n",
            "See the caveats in the documentation: https://pandas.pydata.org/pandas-docs/stable/user_guide/indexing.html#returning-a-view-versus-a-copy\n",
            "  after removing the cwd from sys.path.\n",
            "/usr/local/lib/python3.7/dist-packages/ipykernel_launcher.py:5: SettingWithCopyWarning: \n",
            "A value is trying to be set on a copy of a slice from a DataFrame\n",
            "\n",
            "See the caveats in the documentation: https://pandas.pydata.org/pandas-docs/stable/user_guide/indexing.html#returning-a-view-versus-a-copy\n",
            "  \"\"\"\n",
            "/usr/local/lib/python3.7/dist-packages/ipykernel_launcher.py:4: SettingWithCopyWarning: \n",
            "A value is trying to be set on a copy of a slice from a DataFrame\n",
            "\n",
            "See the caveats in the documentation: https://pandas.pydata.org/pandas-docs/stable/user_guide/indexing.html#returning-a-view-versus-a-copy\n",
            "  after removing the cwd from sys.path.\n",
            "/usr/local/lib/python3.7/dist-packages/ipykernel_launcher.py:5: SettingWithCopyWarning: \n",
            "A value is trying to be set on a copy of a slice from a DataFrame\n",
            "\n",
            "See the caveats in the documentation: https://pandas.pydata.org/pandas-docs/stable/user_guide/indexing.html#returning-a-view-versus-a-copy\n",
            "  \"\"\"\n",
            "/usr/local/lib/python3.7/dist-packages/ipykernel_launcher.py:4: SettingWithCopyWarning: \n",
            "A value is trying to be set on a copy of a slice from a DataFrame\n",
            "\n",
            "See the caveats in the documentation: https://pandas.pydata.org/pandas-docs/stable/user_guide/indexing.html#returning-a-view-versus-a-copy\n",
            "  after removing the cwd from sys.path.\n",
            "/usr/local/lib/python3.7/dist-packages/ipykernel_launcher.py:5: SettingWithCopyWarning: \n",
            "A value is trying to be set on a copy of a slice from a DataFrame\n",
            "\n",
            "See the caveats in the documentation: https://pandas.pydata.org/pandas-docs/stable/user_guide/indexing.html#returning-a-view-versus-a-copy\n",
            "  \"\"\"\n",
            "/usr/local/lib/python3.7/dist-packages/ipykernel_launcher.py:4: SettingWithCopyWarning: \n",
            "A value is trying to be set on a copy of a slice from a DataFrame\n",
            "\n",
            "See the caveats in the documentation: https://pandas.pydata.org/pandas-docs/stable/user_guide/indexing.html#returning-a-view-versus-a-copy\n",
            "  after removing the cwd from sys.path.\n",
            "/usr/local/lib/python3.7/dist-packages/ipykernel_launcher.py:5: SettingWithCopyWarning: \n",
            "A value is trying to be set on a copy of a slice from a DataFrame\n",
            "\n",
            "See the caveats in the documentation: https://pandas.pydata.org/pandas-docs/stable/user_guide/indexing.html#returning-a-view-versus-a-copy\n",
            "  \"\"\"\n",
            "/usr/local/lib/python3.7/dist-packages/ipykernel_launcher.py:4: SettingWithCopyWarning: \n",
            "A value is trying to be set on a copy of a slice from a DataFrame\n",
            "\n",
            "See the caveats in the documentation: https://pandas.pydata.org/pandas-docs/stable/user_guide/indexing.html#returning-a-view-versus-a-copy\n",
            "  after removing the cwd from sys.path.\n",
            "/usr/local/lib/python3.7/dist-packages/ipykernel_launcher.py:5: SettingWithCopyWarning: \n",
            "A value is trying to be set on a copy of a slice from a DataFrame\n",
            "\n",
            "See the caveats in the documentation: https://pandas.pydata.org/pandas-docs/stable/user_guide/indexing.html#returning-a-view-versus-a-copy\n",
            "  \"\"\"\n",
            "/usr/local/lib/python3.7/dist-packages/ipykernel_launcher.py:4: SettingWithCopyWarning: \n",
            "A value is trying to be set on a copy of a slice from a DataFrame\n",
            "\n",
            "See the caveats in the documentation: https://pandas.pydata.org/pandas-docs/stable/user_guide/indexing.html#returning-a-view-versus-a-copy\n",
            "  after removing the cwd from sys.path.\n",
            "/usr/local/lib/python3.7/dist-packages/ipykernel_launcher.py:5: SettingWithCopyWarning: \n",
            "A value is trying to be set on a copy of a slice from a DataFrame\n",
            "\n",
            "See the caveats in the documentation: https://pandas.pydata.org/pandas-docs/stable/user_guide/indexing.html#returning-a-view-versus-a-copy\n",
            "  \"\"\"\n",
            "/usr/local/lib/python3.7/dist-packages/ipykernel_launcher.py:4: SettingWithCopyWarning: \n",
            "A value is trying to be set on a copy of a slice from a DataFrame\n",
            "\n",
            "See the caveats in the documentation: https://pandas.pydata.org/pandas-docs/stable/user_guide/indexing.html#returning-a-view-versus-a-copy\n",
            "  after removing the cwd from sys.path.\n",
            "/usr/local/lib/python3.7/dist-packages/ipykernel_launcher.py:5: SettingWithCopyWarning: \n",
            "A value is trying to be set on a copy of a slice from a DataFrame\n",
            "\n",
            "See the caveats in the documentation: https://pandas.pydata.org/pandas-docs/stable/user_guide/indexing.html#returning-a-view-versus-a-copy\n",
            "  \"\"\"\n"
          ],
          "name": "stderr"
        }
      ]
    },
    {
      "cell_type": "code",
      "metadata": {
        "id": "T3FlNEDr2B8k"
      },
      "source": [
        "from sklearn.preprocessing import StandardScaler"
      ],
      "execution_count": null,
      "outputs": []
    },
    {
      "cell_type": "code",
      "metadata": {
        "id": "msv-Ye1a1SgV"
      },
      "source": [
        "ss= StandardScaler()\n",
        "df2 = ss.fit_transform(df.drop('ID',axis=1))"
      ],
      "execution_count": null,
      "outputs": []
    },
    {
      "cell_type": "code",
      "metadata": {
        "id": "avgk-nIG1mTt"
      },
      "source": [
        "df2 = pd.DataFrame(df2)"
      ],
      "execution_count": null,
      "outputs": []
    },
    {
      "cell_type": "code",
      "metadata": {
        "id": "Z-fGTlGa1vAj"
      },
      "source": [
        "df2.columns = df.columns[:-1]"
      ],
      "execution_count": null,
      "outputs": []
    },
    {
      "cell_type": "code",
      "metadata": {
        "colab": {
          "base_uri": "https://localhost:8080/",
          "height": 424
        },
        "id": "8LDMAOQc2Hij",
        "outputId": "da343501-10dc-43c5-a88a-6db3c3cc84a4"
      },
      "source": [
        "df2"
      ],
      "execution_count": null,
      "outputs": [
        {
          "output_type": "execute_result",
          "data": {
            "text/html": [
              "<div>\n",
              "<style scoped>\n",
              "    .dataframe tbody tr th:only-of-type {\n",
              "        vertical-align: middle;\n",
              "    }\n",
              "\n",
              "    .dataframe tbody tr th {\n",
              "        vertical-align: top;\n",
              "    }\n",
              "\n",
              "    .dataframe thead th {\n",
              "        text-align: right;\n",
              "    }\n",
              "</style>\n",
              "<table border=\"1\" class=\"dataframe\">\n",
              "  <thead>\n",
              "    <tr style=\"text-align: right;\">\n",
              "      <th></th>\n",
              "      <th>RI</th>\n",
              "      <th>Na</th>\n",
              "      <th>Mg</th>\n",
              "      <th>Al</th>\n",
              "      <th>Si</th>\n",
              "      <th>K</th>\n",
              "      <th>Ca</th>\n",
              "      <th>Ba</th>\n",
              "      <th>Fe</th>\n",
              "    </tr>\n",
              "  </thead>\n",
              "  <tbody>\n",
              "    <tr>\n",
              "      <th>0</th>\n",
              "      <td>0.950549</td>\n",
              "      <td>0.319899</td>\n",
              "      <td>0.893132</td>\n",
              "      <td>-0.707909</td>\n",
              "      <td>-1.170586</td>\n",
              "      <td>-1.021903</td>\n",
              "      <td>-0.147013</td>\n",
              "      <td>-0.367626</td>\n",
              "      <td>-0.597741</td>\n",
              "    </tr>\n",
              "    <tr>\n",
              "      <th>1</th>\n",
              "      <td>-0.255286</td>\n",
              "      <td>0.647661</td>\n",
              "      <td>0.639148</td>\n",
              "      <td>-0.172494</td>\n",
              "      <td>0.112257</td>\n",
              "      <td>0.044327</td>\n",
              "      <td>-0.817870</td>\n",
              "      <td>-0.367626</td>\n",
              "      <td>-0.597741</td>\n",
              "    </tr>\n",
              "    <tr>\n",
              "      <th>2</th>\n",
              "      <td>-0.762446</td>\n",
              "      <td>0.175684</td>\n",
              "      <td>0.604337</td>\n",
              "      <td>0.198179</td>\n",
              "      <td>0.463350</td>\n",
              "      <td>-0.184151</td>\n",
              "      <td>-0.854329</td>\n",
              "      <td>-0.367626</td>\n",
              "      <td>-0.597741</td>\n",
              "    </tr>\n",
              "    <tr>\n",
              "      <th>3</th>\n",
              "      <td>-0.237553</td>\n",
              "      <td>-0.243851</td>\n",
              "      <td>0.701809</td>\n",
              "      <td>-0.316644</td>\n",
              "      <td>-0.049787</td>\n",
              "      <td>0.272804</td>\n",
              "      <td>-0.533485</td>\n",
              "      <td>-0.367626</td>\n",
              "      <td>-0.597741</td>\n",
              "    </tr>\n",
              "    <tr>\n",
              "      <th>4</th>\n",
              "      <td>-0.322671</td>\n",
              "      <td>-0.165188</td>\n",
              "      <td>0.653073</td>\n",
              "      <td>-0.419608</td>\n",
              "      <td>0.584883</td>\n",
              "      <td>0.222032</td>\n",
              "      <td>-0.642864</td>\n",
              "      <td>-0.367626</td>\n",
              "      <td>-0.597741</td>\n",
              "    </tr>\n",
              "    <tr>\n",
              "      <th>...</th>\n",
              "      <td>...</td>\n",
              "      <td>...</td>\n",
              "      <td>...</td>\n",
              "      <td>...</td>\n",
              "      <td>...</td>\n",
              "      <td>...</td>\n",
              "      <td>...</td>\n",
              "      <td>...</td>\n",
              "      <td>...</td>\n",
              "    </tr>\n",
              "    <tr>\n",
              "      <th>209</th>\n",
              "      <td>-0.744713</td>\n",
              "      <td>0.975423</td>\n",
              "      <td>-1.867270</td>\n",
              "      <td>2.957628</td>\n",
              "      <td>-0.049787</td>\n",
              "      <td>-0.971130</td>\n",
              "      <td>0.166539</td>\n",
              "      <td>1.972300</td>\n",
              "      <td>-0.597741</td>\n",
              "    </tr>\n",
              "    <tr>\n",
              "      <th>210</th>\n",
              "      <td>-0.524826</td>\n",
              "      <td>1.998040</td>\n",
              "      <td>-1.867270</td>\n",
              "      <td>1.124860</td>\n",
              "      <td>0.557876</td>\n",
              "      <td>-1.174222</td>\n",
              "      <td>-0.402230</td>\n",
              "      <td>3.142263</td>\n",
              "      <td>-0.597741</td>\n",
              "    </tr>\n",
              "    <tr>\n",
              "      <th>211</th>\n",
              "      <td>0.822872</td>\n",
              "      <td>1.263853</td>\n",
              "      <td>-1.867270</td>\n",
              "      <td>1.186638</td>\n",
              "      <td>1.044006</td>\n",
              "      <td>-1.174222</td>\n",
              "      <td>-0.373063</td>\n",
              "      <td>3.252637</td>\n",
              "      <td>-0.597741</td>\n",
              "    </tr>\n",
              "    <tr>\n",
              "      <th>212</th>\n",
              "      <td>-0.645409</td>\n",
              "      <td>1.290074</td>\n",
              "      <td>-1.867270</td>\n",
              "      <td>1.021895</td>\n",
              "      <td>1.300574</td>\n",
              "      <td>-1.174222</td>\n",
              "      <td>-0.343895</td>\n",
              "      <td>3.098113</td>\n",
              "      <td>-0.597741</td>\n",
              "    </tr>\n",
              "    <tr>\n",
              "      <th>213</th>\n",
              "      <td>-0.432615</td>\n",
              "      <td>1.093417</td>\n",
              "      <td>-1.867270</td>\n",
              "      <td>1.310196</td>\n",
              "      <td>0.962984</td>\n",
              "      <td>-1.174222</td>\n",
              "      <td>-0.241808</td>\n",
              "      <td>3.318861</td>\n",
              "      <td>-0.597741</td>\n",
              "    </tr>\n",
              "  </tbody>\n",
              "</table>\n",
              "<p>214 rows × 9 columns</p>\n",
              "</div>"
            ],
            "text/plain": [
              "           RI        Na        Mg  ...        Ca        Ba        Fe\n",
              "0    0.950549  0.319899  0.893132  ... -0.147013 -0.367626 -0.597741\n",
              "1   -0.255286  0.647661  0.639148  ... -0.817870 -0.367626 -0.597741\n",
              "2   -0.762446  0.175684  0.604337  ... -0.854329 -0.367626 -0.597741\n",
              "3   -0.237553 -0.243851  0.701809  ... -0.533485 -0.367626 -0.597741\n",
              "4   -0.322671 -0.165188  0.653073  ... -0.642864 -0.367626 -0.597741\n",
              "..        ...       ...       ...  ...       ...       ...       ...\n",
              "209 -0.744713  0.975423 -1.867270  ...  0.166539  1.972300 -0.597741\n",
              "210 -0.524826  1.998040 -1.867270  ... -0.402230  3.142263 -0.597741\n",
              "211  0.822872  1.263853 -1.867270  ... -0.373063  3.252637 -0.597741\n",
              "212 -0.645409  1.290074 -1.867270  ... -0.343895  3.098113 -0.597741\n",
              "213 -0.432615  1.093417 -1.867270  ... -0.241808  3.318861 -0.597741\n",
              "\n",
              "[214 rows x 9 columns]"
            ]
          },
          "metadata": {
            "tags": []
          },
          "execution_count": 26
        }
      ]
    },
    {
      "cell_type": "code",
      "metadata": {
        "colab": {
          "base_uri": "https://localhost:8080/"
        },
        "id": "6dbcmaOC24es",
        "outputId": "de484023-a687-4d9a-f69e-4ff94d264089"
      },
      "source": [
        "pip install pyclustertend"
      ],
      "execution_count": null,
      "outputs": [
        {
          "output_type": "stream",
          "text": [
            "Collecting pyclustertend\n",
            "  Downloading pyclustertend-1.4.9-py3-none-any.whl (9.8 kB)\n",
            "Installing collected packages: pyclustertend\n",
            "Successfully installed pyclustertend-1.4.9\n"
          ],
          "name": "stdout"
        }
      ]
    },
    {
      "cell_type": "code",
      "metadata": {
        "id": "lPmkujPW2n_0"
      },
      "source": [
        "from  pyclustertend import hopkins "
      ],
      "execution_count": null,
      "outputs": []
    },
    {
      "cell_type": "code",
      "metadata": {
        "colab": {
          "base_uri": "https://localhost:8080/"
        },
        "id": "KwvLBw3O3sCV",
        "outputId": "651c576a-5ded-46b3-b6e1-a86f4b734aae"
      },
      "source": [
        "hopkins(df2,df2.shape[0])\n",
        "#Se puede aplicar aprendizae NO"
      ],
      "execution_count": null,
      "outputs": [
        {
          "output_type": "execute_result",
          "data": {
            "text/plain": [
              "0.16463115057404265"
            ]
          },
          "metadata": {
            "tags": []
          },
          "execution_count": 30
        }
      ]
    },
    {
      "cell_type": "code",
      "metadata": {
        "colab": {
          "base_uri": "https://localhost:8080/",
          "height": 283
        },
        "id": "DD4NvDiX4JL_",
        "outputId": "1ebfde86-2d93-4a9c-ea9a-4391719ac651"
      },
      "source": [
        "ss=[]\n",
        "for k in range(2,15):\n",
        "  kmeans=KMeans(n_clusters=k).fit(df2)\n",
        "  ss.append([k,kmeans.inertia_])\n",
        "ss= pd.DataFrame(ss)\n",
        "plt.plot(ss[0],ss[1])"
      ],
      "execution_count": null,
      "outputs": [
        {
          "output_type": "execute_result",
          "data": {
            "text/plain": [
              "[<matplotlib.lines.Line2D at 0x7f8881efd890>]"
            ]
          },
          "metadata": {
            "tags": []
          },
          "execution_count": 32
        },
        {
          "output_type": "display_data",
          "data": {
            "image/png": "[encoded data removed]",
            "text/plain": [
              "<Figure size 432x288 with 1 Axes>"
            ]
          },
          "metadata": {
            "tags": [],
            "needs_background": "light"
          }
        }
      ]
    },
    {
      "cell_type": "code",
      "metadata": {
        "colab": {
          "base_uri": "https://localhost:8080/",
          "height": 283
        },
        "id": "EkoShHXh4XUO",
        "outputId": "b698fc38-2947-4596-f9d0-b2a57f32de08"
      },
      "source": [
        "si=[]\n",
        "for k in range(2,15):\n",
        "  kmeans=KMeans(n_clusters=k,random_state=0).fit(df2)\n",
        "  si.append([k,silhouette_score(df2,kmeans.labels_)])\n",
        "si=pd.DataFrame(si)\n",
        "plt.plot(si[0],si[1])"
      ],
      "execution_count": null,
      "outputs": [
        {
          "output_type": "execute_result",
          "data": {
            "text/plain": [
              "[<matplotlib.lines.Line2D at 0x7f887960e610>]"
            ]
          },
          "metadata": {
            "tags": []
          },
          "execution_count": 33
        },
        {
          "output_type": "display_data",
          "data": {
            "image/png": "[encoded data removed]",
            "text/plain": [
              "<Figure size 432x288 with 1 Axes>"
            ]
          },
          "metadata": {
            "tags": [],
            "needs_background": "light"
          }
        }
      ]
    },
    {
      "cell_type": "code",
      "metadata": {
        "colab": {
          "base_uri": "https://localhost:8080/",
          "height": 590
        },
        "id": "uEnpTIsR6bAd",
        "outputId": "e903f0be-a15f-45b3-d3b9-440bd20cdb66"
      },
      "source": [
        "fig, ax = plt.subplots(figsize=(20,10))\n",
        "sch.dendrogram(sch.linkage(df2, method= 'ward', metric='euclidean'),ax=ax)\n",
        "plt.show()"
      ],
      "execution_count": null,
      "outputs": [
        {
          "output_type": "display_data",
          "data": {
            "image/png": "[encoded data removed]",
            "text/plain": [
              "<Figure size 1440x720 with 1 Axes>"
            ]
          },
          "metadata": {
            "tags": [],
            "needs_background": "light"
          }
        }
      ]
    },
    {
      "cell_type": "code",
      "metadata": {
        "colab": {
          "base_uri": "https://localhost:8080/"
        },
        "id": "zegU9X1t7rh1",
        "outputId": "27da67e3-98d2-4d84-cca8-b8eea87d1257"
      },
      "source": [
        "kmeans = KMeans(n_clusters=3,random_state=0)\n",
        "kmeans.fit_transform(df2)"
      ],
      "execution_count": null,
      "outputs": [
        {
          "output_type": "execute_result",
          "data": {
            "text/plain": [
              "array([[2.0916283 , 4.81025806, 2.68856608],\n",
              "       [3.20129373, 3.8223443 , 1.35382349],\n",
              "       [3.60390538, 3.70926905, 1.26304251],\n",
              "       [2.99560733, 4.25864894, 0.83584138],\n",
              "       [3.27670404, 4.18377408, 0.95524644],\n",
              "       [4.30929324, 4.99014376, 2.26373178],\n",
              "       [3.24342999, 4.27257507, 1.03594113],\n",
              "       [3.30067178, 4.4484607 , 1.21492825],\n",
              "       [2.67295197, 4.08696295, 1.82608731],\n",
              "       [3.12911791, 4.35509853, 0.65216935],\n",
              "       [4.34159174, 4.93041899, 2.14456277],\n",
              "       [3.16631384, 4.48074609, 0.94667559],\n",
              "       [4.27065469, 4.9349856 , 2.10410406],\n",
              "       [3.42715812, 4.67295576, 1.38081545],\n",
              "       [3.41332136, 4.5513609 , 1.21896274],\n",
              "       [3.31990258, 4.4577507 , 1.09308038],\n",
              "       [3.18132088, 4.67721275, 1.18409468],\n",
              "       [2.33049156, 5.20804774, 3.54754154],\n",
              "       [2.23118543, 4.2291839 , 2.27697458],\n",
              "       [3.13476595, 4.0249215 , 0.6430689 ],\n",
              "       [3.30621203, 4.63727402, 1.44399935],\n",
              "       [2.96823936, 5.1262088 , 3.6337233 ],\n",
              "       [3.05490034, 4.46835243, 0.8996228 ],\n",
              "       [3.19870336, 4.38550071, 0.89032631],\n",
              "       [2.97483502, 4.14120023, 0.98763213],\n",
              "       [3.12034545, 4.4094412 , 0.8959114 ],\n",
              "       [2.87716082, 4.0937435 , 0.76059417],\n",
              "       [3.2348587 , 4.28307568, 0.86480671],\n",
              "       [3.34328194, 4.46315306, 1.14578509],\n",
              "       [2.95788557, 4.25113186, 0.77837372],\n",
              "       [3.246387  , 4.72761795, 1.16661285],\n",
              "       [3.26909109, 4.49411465, 1.18189134],\n",
              "       [3.42979192, 4.86041556, 1.79009765],\n",
              "       [3.44960988, 4.53073856, 1.11335859],\n",
              "       [3.04469077, 4.45313499, 0.99606902],\n",
              "       [3.27650002, 4.15704512, 1.01457296],\n",
              "       [2.35840636, 4.12935801, 1.9661606 ],\n",
              "       [3.07678011, 4.43641983, 0.94841602],\n",
              "       [2.28860958, 5.55247015, 3.69476513],\n",
              "       [2.28860958, 5.55247015, 3.69476513],\n",
              "       [3.03861179, 4.60850424, 1.12563297],\n",
              "       [3.23586803, 4.51543654, 1.14486587],\n",
              "       [2.84207233, 4.10098945, 0.74872598],\n",
              "       [1.76264627, 5.35787262, 3.22196259],\n",
              "       [3.87548719, 5.47366457, 2.64680962],\n",
              "       [2.24127014, 4.29769298, 1.60705641],\n",
              "       [2.63457441, 4.56377576, 1.29959455],\n",
              "       [2.42064423, 6.23885575, 4.56905267],\n",
              "       [1.55746717, 5.39946831, 3.06962574],\n",
              "       [2.25073725, 4.27827851, 1.54200756],\n",
              "       [2.09768354, 5.98300299, 3.85943245],\n",
              "       [2.15255863, 4.4603328 , 1.21046378],\n",
              "       [2.49065434, 3.94235707, 1.13004523],\n",
              "       [2.47334966, 4.01956968, 1.04730895],\n",
              "       [2.58043751, 3.97389089, 0.83278317],\n",
              "       [3.92435384, 5.10768579, 2.53104353],\n",
              "       [5.1217925 , 5.63745883, 3.23899893],\n",
              "       [3.01595485, 4.38170878, 0.90561861],\n",
              "       [3.25820449, 4.22942178, 1.08087878],\n",
              "       [2.99958406, 4.33504393, 0.81705249],\n",
              "       [2.30813046, 4.17843322, 1.81100521],\n",
              "       [2.55987131, 3.77592016, 2.83878078],\n",
              "       [1.62200952, 5.26947451, 2.79878724],\n",
              "       [2.16132286, 5.44454073, 3.79885752],\n",
              "       [1.40075618, 5.06698115, 2.65683742],\n",
              "       [1.61403943, 4.59562545, 2.5976217 ],\n",
              "       [1.8286132 , 5.41600348, 2.79152556],\n",
              "       [1.85120178, 5.38852666, 2.75784891],\n",
              "       [1.69775245, 5.30393256, 2.68039335],\n",
              "       [1.29778703, 5.40550223, 3.20996611],\n",
              "       [4.20283117, 3.96832482, 3.13011862],\n",
              "       [3.80170833, 5.46935815, 3.1021621 ],\n",
              "       [3.87134476, 4.13816414, 1.05847261],\n",
              "       [3.61226518, 3.91215875, 0.96106626],\n",
              "       [3.900323  , 4.19158569, 1.07670382],\n",
              "       [3.8605393 , 4.19080912, 1.05070486],\n",
              "       [3.40631251, 4.02522157, 1.08006666],\n",
              "       [3.57759009, 4.12925476, 0.87482237],\n",
              "       [3.47392114, 4.02042317, 1.60610259],\n",
              "       [4.02915701, 4.12955093, 1.41194819],\n",
              "       [4.15589559, 4.09416762, 1.75377965],\n",
              "       [3.77273133, 4.01211366, 1.0652734 ],\n",
              "       [3.4051541 , 4.16912344, 0.93569275],\n",
              "       [3.64425034, 4.17264478, 0.7002492 ],\n",
              "       [5.12602609, 4.13309339, 2.94353155],\n",
              "       [3.30260682, 3.86805774, 0.96747468],\n",
              "       [3.71534435, 3.87837043, 1.28384147],\n",
              "       [3.38919848, 4.05308096, 0.72319582],\n",
              "       [3.53916731, 4.117179  , 0.84392235],\n",
              "       [4.03583758, 4.34132699, 1.43132468],\n",
              "       [3.02249196, 5.24866586, 2.02820417],\n",
              "       [3.50770749, 4.09015379, 1.04289935],\n",
              "       [3.79185907, 4.23510109, 2.13232982],\n",
              "       [3.49040755, 3.80356479, 1.12308607],\n",
              "       [3.78976763, 4.30110445, 1.16936444],\n",
              "       [2.49133436, 4.0780596 , 1.17689066],\n",
              "       [2.57792311, 4.93415116, 1.49945366],\n",
              "       [4.08172598, 5.50255544, 2.54947974],\n",
              "       [3.67324333, 4.10555985, 1.31298809],\n",
              "       [2.8195142 , 3.87955148, 0.92903345],\n",
              "       [3.72369305, 4.52990803, 1.94535649],\n",
              "       [3.28789401, 4.38820302, 1.51381038],\n",
              "       [3.54748658, 5.23966335, 2.69103529],\n",
              "       [3.10822139, 7.11672601, 5.71469157],\n",
              "       [1.71567578, 5.48131519, 4.16627436],\n",
              "       [5.23048039, 7.64610082, 6.3462794 ],\n",
              "       [7.54462415, 8.95829198, 9.00142477],\n",
              "       [5.20210156, 8.75508179, 7.70998191],\n",
              "       [2.31745387, 4.53144369, 4.3825765 ],\n",
              "       [4.16125115, 4.92532644, 4.56489164],\n",
              "       [5.05794512, 8.08771949, 6.96187243],\n",
              "       [5.23431781, 8.34528431, 7.17203072],\n",
              "       [4.02994138, 7.56743254, 6.68441433],\n",
              "       [2.81720978, 4.50227582, 1.25199109],\n",
              "       [2.80628438, 4.60091666, 1.12068442],\n",
              "       [2.75826828, 4.26363952, 1.15539392],\n",
              "       [2.79396012, 4.40953188, 0.933903  ],\n",
              "       [3.5116817 , 3.9262786 , 1.69815692],\n",
              "       [4.10669407, 5.01894523, 2.49180427],\n",
              "       [3.37613895, 3.97571519, 1.09076455],\n",
              "       [2.73194293, 4.32860281, 1.02860757],\n",
              "       [3.91138549, 4.62112156, 1.69894491],\n",
              "       [3.32212775, 3.98045982, 0.77792274],\n",
              "       [3.37712156, 3.79432782, 1.12777567],\n",
              "       [2.37928882, 4.71556483, 1.85797812],\n",
              "       [2.81923456, 4.43804745, 1.00078603],\n",
              "       [3.13468706, 4.36035226, 0.8535759 ],\n",
              "       [1.75801899, 4.34084045, 2.56267351],\n",
              "       [2.10907474, 3.83080643, 2.42950146],\n",
              "       [2.12267715, 4.20835137, 3.28269422],\n",
              "       [1.37909761, 4.21272155, 3.39904111],\n",
              "       [3.19292183, 6.37973327, 5.93100309],\n",
              "       [2.94459998, 4.41367159, 1.15302427],\n",
              "       [3.07559349, 4.48334972, 1.87943196],\n",
              "       [3.00619499, 4.26094538, 0.98284435],\n",
              "       [3.59891449, 5.23967829, 2.4482722 ],\n",
              "       [3.10726781, 4.71147186, 1.10624334],\n",
              "       [3.49176934, 4.1895212 , 0.89017098],\n",
              "       [3.89260344, 4.29580965, 1.22988322],\n",
              "       [3.7620172 , 4.16794362, 1.07870414],\n",
              "       [3.36326017, 3.98110319, 0.94645243],\n",
              "       [2.96546773, 4.66663231, 1.44715337],\n",
              "       [4.01836532, 4.92434602, 2.07084266],\n",
              "       [3.50495168, 4.0077079 , 1.06420904],\n",
              "       [3.57696571, 4.84502516, 1.98615085],\n",
              "       [4.07534067, 5.80164102, 3.13593654],\n",
              "       [2.7253872 , 4.07229826, 1.75965747],\n",
              "       [3.27008046, 4.05132637, 0.88067967],\n",
              "       [3.08735859, 4.17327517, 0.52620338],\n",
              "       [3.63763952, 4.82958346, 1.48639506],\n",
              "       [3.4752269 , 4.25814677, 1.42060577],\n",
              "       [2.25895943, 5.17116958, 3.55790918],\n",
              "       [2.88495881, 4.64968594, 2.39352155],\n",
              "       [3.24837684, 4.08521959, 0.9756601 ],\n",
              "       [3.02728059, 4.41994776, 0.88655294],\n",
              "       [3.22106895, 4.176889  , 0.90473565],\n",
              "       [2.95941313, 3.99358875, 0.92888442],\n",
              "       [2.0549189 , 5.30655138, 3.3439731 ],\n",
              "       [2.67238365, 4.02134995, 1.38305684],\n",
              "       [2.62257419, 4.08003018, 1.40895317],\n",
              "       [2.4716569 , 4.05796158, 1.30308478],\n",
              "       [2.90840486, 5.05365275, 2.8389304 ],\n",
              "       [3.69863191, 6.30627611, 4.50649421],\n",
              "       [8.65799384, 6.8009702 , 7.61747078],\n",
              "       [2.63958397, 3.95846164, 2.15618776],\n",
              "       [3.09579057, 5.60858399, 3.643784  ],\n",
              "       [4.0492106 , 6.15500078, 4.21852774],\n",
              "       [3.46754379, 4.42090175, 3.81836324],\n",
              "       [4.43242828, 4.12114856, 3.38280474],\n",
              "       [2.80560045, 3.83634281, 3.48569603],\n",
              "       [2.35805868, 4.89640581, 4.51862528],\n",
              "       [8.75196733, 8.00507293, 7.35980048],\n",
              "       [8.68713045, 7.88626272, 7.23956867],\n",
              "       [2.38325087, 4.6540491 , 4.15689877],\n",
              "       [4.22046575, 5.27276328, 4.0738939 ],\n",
              "       [3.45985873, 5.10116404, 4.29004283],\n",
              "       [2.06209817, 3.3838525 , 2.49927841],\n",
              "       [1.84408326, 3.76493071, 2.43160903],\n",
              "       [2.60985487, 3.10193559, 2.7594797 ],\n",
              "       [2.48021791, 3.04417759, 2.47693799],\n",
              "       [5.50728882, 3.66041851, 3.91292443],\n",
              "       [3.09537964, 2.94620326, 3.78762346],\n",
              "       [3.19303363, 3.08544011, 3.98369686],\n",
              "       [3.36622375, 4.64285429, 4.57093296],\n",
              "       [6.49354166, 5.0679569 , 5.43053483],\n",
              "       [7.05671997, 5.28811325, 4.80433143],\n",
              "       [6.61674473, 5.18728247, 5.52825519],\n",
              "       [2.04149621, 4.76202394, 2.35955861],\n",
              "       [3.97979873, 5.36955795, 4.91899338],\n",
              "       [5.0000287 , 5.15377207, 6.16165428],\n",
              "       [3.75495737, 1.68586924, 2.96605899],\n",
              "       [4.89851523, 1.41527772, 4.43951505],\n",
              "       [5.06635334, 2.19456673, 4.4312095 ],\n",
              "       [5.21813907, 1.666046  , 5.1153208 ],\n",
              "       [5.25099739, 1.58064996, 5.0123147 ],\n",
              "       [5.05523962, 1.69004591, 4.35503317],\n",
              "       [4.82138966, 1.48433648, 4.23451361],\n",
              "       [4.60596902, 1.11282334, 4.35171863],\n",
              "       [5.05558506, 1.49393271, 4.49147841],\n",
              "       [4.97866877, 1.47212754, 4.57195088],\n",
              "       [5.29642623, 1.44715656, 4.65378529],\n",
              "       [7.74517418, 7.85563959, 6.24446164],\n",
              "       [5.38682949, 1.60284504, 4.62730353],\n",
              "       [5.59961874, 1.75253711, 5.37396075],\n",
              "       [4.88135322, 1.10579628, 4.47266048],\n",
              "       [5.12099213, 1.66471588, 5.13163312],\n",
              "       [5.08173053, 1.29526405, 4.93234468],\n",
              "       [6.96587623, 4.42536654, 6.11904123],\n",
              "       [4.80290013, 1.81856886, 4.53177058],\n",
              "       [5.2812925 , 1.81180341, 4.94955999],\n",
              "       [5.40859939, 1.55813313, 5.25218524],\n",
              "       [5.10433663, 2.21032451, 5.25838819],\n",
              "       [5.4102271 , 1.63762182, 5.0371899 ],\n",
              "       [5.37930018, 1.71200554, 5.13337597]])"
            ]
          },
          "metadata": {
            "tags": []
          },
          "execution_count": 38
        }
      ]
    },
    {
      "cell_type": "code",
      "metadata": {
        "colab": {
          "base_uri": "https://localhost:8080/"
        },
        "id": "-P87g0pt78dc",
        "outputId": "3848adda-5a72-422b-fdae-ec588dece829"
      },
      "source": [
        "kmeans.labels_"
      ],
      "execution_count": null,
      "outputs": [
        {
          "output_type": "execute_result",
          "data": {
            "text/plain": [
              "array([0, 2, 2, 2, 2, 2, 2, 2, 2, 2, 2, 2, 2, 2, 2, 2, 2, 0, 0, 2, 2, 0,\n",
              "       2, 2, 2, 2, 2, 2, 2, 2, 2, 2, 2, 2, 2, 2, 2, 2, 0, 0, 2, 2, 2, 0,\n",
              "       2, 2, 2, 0, 0, 2, 0, 2, 2, 2, 2, 2, 2, 2, 2, 2, 2, 0, 0, 0, 0, 0,\n",
              "       0, 0, 0, 0, 2, 2, 2, 2, 2, 2, 2, 2, 2, 2, 2, 2, 2, 2, 2, 2, 2, 2,\n",
              "       2, 2, 2, 2, 2, 2, 2, 2, 2, 2, 2, 2, 2, 2, 2, 0, 0, 0, 0, 0, 0, 0,\n",
              "       0, 0, 0, 2, 2, 2, 2, 2, 2, 2, 2, 2, 2, 2, 2, 2, 2, 0, 0, 0, 0, 0,\n",
              "       2, 2, 2, 2, 2, 2, 2, 2, 2, 2, 2, 2, 2, 2, 2, 2, 2, 2, 2, 0, 2, 2,\n",
              "       2, 2, 2, 0, 2, 2, 2, 2, 0, 1, 2, 0, 0, 0, 2, 0, 0, 2, 2, 0, 2, 0,\n",
              "       0, 0, 0, 2, 1, 1, 1, 0, 1, 2, 1, 0, 0, 0, 1, 1, 1, 1, 1, 1, 1, 1,\n",
              "       1, 1, 1, 2, 1, 1, 1, 1, 1, 1, 1, 1, 1, 1, 1, 1], dtype=int32)"
            ]
          },
          "metadata": {
            "tags": []
          },
          "execution_count": 39
        }
      ]
    },
    {
      "cell_type": "code",
      "metadata": {
        "id": "X-lDezf_7_G-"
      },
      "source": [
        "df['label'] = kmeans.labels_"
      ],
      "execution_count": null,
      "outputs": []
    },
    {
      "cell_type": "code",
      "metadata": {
        "colab": {
          "base_uri": "https://localhost:8080/",
          "height": 424
        },
        "id": "o1mFvBCo8El1",
        "outputId": "87901056-a3c7-4c69-a3bb-be19adfb13ea"
      },
      "source": [
        "df"
      ],
      "execution_count": null,
      "outputs": [
        {
          "output_type": "execute_result",
          "data": {
            "text/html": [
              "<div>\n",
              "<style scoped>\n",
              "    .dataframe tbody tr th:only-of-type {\n",
              "        vertical-align: middle;\n",
              "    }\n",
              "\n",
              "    .dataframe tbody tr th {\n",
              "        vertical-align: top;\n",
              "    }\n",
              "\n",
              "    .dataframe thead th {\n",
              "        text-align: right;\n",
              "    }\n",
              "</style>\n",
              "<table border=\"1\" class=\"dataframe\">\n",
              "  <thead>\n",
              "    <tr style=\"text-align: right;\">\n",
              "      <th></th>\n",
              "      <th>RI</th>\n",
              "      <th>Na</th>\n",
              "      <th>Mg</th>\n",
              "      <th>Al</th>\n",
              "      <th>Si</th>\n",
              "      <th>K</th>\n",
              "      <th>Ca</th>\n",
              "      <th>Ba</th>\n",
              "      <th>Fe</th>\n",
              "      <th>ID</th>\n",
              "      <th>label</th>\n",
              "    </tr>\n",
              "  </thead>\n",
              "  <tbody>\n",
              "    <tr>\n",
              "      <th>0</th>\n",
              "      <td>1.52101</td>\n",
              "      <td>13.64</td>\n",
              "      <td>3.9648</td>\n",
              "      <td>1.10</td>\n",
              "      <td>71.78</td>\n",
              "      <td>0.06</td>\n",
              "      <td>8.75</td>\n",
              "      <td>0.00</td>\n",
              "      <td>0.0</td>\n",
              "      <td>1000</td>\n",
              "      <td>0</td>\n",
              "    </tr>\n",
              "    <tr>\n",
              "      <th>1</th>\n",
              "      <td>1.51761</td>\n",
              "      <td>13.89</td>\n",
              "      <td>3.6000</td>\n",
              "      <td>1.36</td>\n",
              "      <td>72.73</td>\n",
              "      <td>0.48</td>\n",
              "      <td>7.83</td>\n",
              "      <td>0.00</td>\n",
              "      <td>0.0</td>\n",
              "      <td>1001</td>\n",
              "      <td>2</td>\n",
              "    </tr>\n",
              "    <tr>\n",
              "      <th>2</th>\n",
              "      <td>1.51618</td>\n",
              "      <td>13.53</td>\n",
              "      <td>3.5500</td>\n",
              "      <td>1.54</td>\n",
              "      <td>72.99</td>\n",
              "      <td>0.39</td>\n",
              "      <td>7.78</td>\n",
              "      <td>0.00</td>\n",
              "      <td>0.0</td>\n",
              "      <td>1002</td>\n",
              "      <td>2</td>\n",
              "    </tr>\n",
              "    <tr>\n",
              "      <th>3</th>\n",
              "      <td>1.51766</td>\n",
              "      <td>13.21</td>\n",
              "      <td>3.6900</td>\n",
              "      <td>1.29</td>\n",
              "      <td>72.61</td>\n",
              "      <td>0.57</td>\n",
              "      <td>8.22</td>\n",
              "      <td>0.00</td>\n",
              "      <td>0.0</td>\n",
              "      <td>1003</td>\n",
              "      <td>2</td>\n",
              "    </tr>\n",
              "    <tr>\n",
              "      <th>4</th>\n",
              "      <td>1.51742</td>\n",
              "      <td>13.27</td>\n",
              "      <td>3.6200</td>\n",
              "      <td>1.24</td>\n",
              "      <td>73.08</td>\n",
              "      <td>0.55</td>\n",
              "      <td>8.07</td>\n",
              "      <td>0.00</td>\n",
              "      <td>0.0</td>\n",
              "      <td>1004</td>\n",
              "      <td>2</td>\n",
              "    </tr>\n",
              "    <tr>\n",
              "      <th>...</th>\n",
              "      <td>...</td>\n",
              "      <td>...</td>\n",
              "      <td>...</td>\n",
              "      <td>...</td>\n",
              "      <td>...</td>\n",
              "      <td>...</td>\n",
              "      <td>...</td>\n",
              "      <td>...</td>\n",
              "      <td>...</td>\n",
              "      <td>...</td>\n",
              "      <td>...</td>\n",
              "    </tr>\n",
              "    <tr>\n",
              "      <th>209</th>\n",
              "      <td>1.51623</td>\n",
              "      <td>14.14</td>\n",
              "      <td>0.0000</td>\n",
              "      <td>2.88</td>\n",
              "      <td>72.61</td>\n",
              "      <td>0.08</td>\n",
              "      <td>9.18</td>\n",
              "      <td>1.06</td>\n",
              "      <td>0.0</td>\n",
              "      <td>1209</td>\n",
              "      <td>1</td>\n",
              "    </tr>\n",
              "    <tr>\n",
              "      <th>210</th>\n",
              "      <td>1.51685</td>\n",
              "      <td>14.92</td>\n",
              "      <td>0.0000</td>\n",
              "      <td>1.99</td>\n",
              "      <td>73.06</td>\n",
              "      <td>0.00</td>\n",
              "      <td>8.40</td>\n",
              "      <td>1.59</td>\n",
              "      <td>0.0</td>\n",
              "      <td>1210</td>\n",
              "      <td>1</td>\n",
              "    </tr>\n",
              "    <tr>\n",
              "      <th>211</th>\n",
              "      <td>1.52065</td>\n",
              "      <td>14.36</td>\n",
              "      <td>0.0000</td>\n",
              "      <td>2.02</td>\n",
              "      <td>73.42</td>\n",
              "      <td>0.00</td>\n",
              "      <td>8.44</td>\n",
              "      <td>1.64</td>\n",
              "      <td>0.0</td>\n",
              "      <td>1211</td>\n",
              "      <td>1</td>\n",
              "    </tr>\n",
              "    <tr>\n",
              "      <th>212</th>\n",
              "      <td>1.51651</td>\n",
              "      <td>14.38</td>\n",
              "      <td>0.0000</td>\n",
              "      <td>1.94</td>\n",
              "      <td>73.61</td>\n",
              "      <td>0.00</td>\n",
              "      <td>8.48</td>\n",
              "      <td>1.57</td>\n",
              "      <td>0.0</td>\n",
              "      <td>1212</td>\n",
              "      <td>1</td>\n",
              "    </tr>\n",
              "    <tr>\n",
              "      <th>213</th>\n",
              "      <td>1.51711</td>\n",
              "      <td>14.23</td>\n",
              "      <td>0.0000</td>\n",
              "      <td>2.08</td>\n",
              "      <td>73.36</td>\n",
              "      <td>0.00</td>\n",
              "      <td>8.62</td>\n",
              "      <td>1.67</td>\n",
              "      <td>0.0</td>\n",
              "      <td>1213</td>\n",
              "      <td>1</td>\n",
              "    </tr>\n",
              "  </tbody>\n",
              "</table>\n",
              "<p>214 rows × 11 columns</p>\n",
              "</div>"
            ],
            "text/plain": [
              "          RI     Na      Mg    Al     Si     K    Ca    Ba   Fe    ID  label\n",
              "0    1.52101  13.64  3.9648  1.10  71.78  0.06  8.75  0.00  0.0  1000      0\n",
              "1    1.51761  13.89  3.6000  1.36  72.73  0.48  7.83  0.00  0.0  1001      2\n",
              "2    1.51618  13.53  3.5500  1.54  72.99  0.39  7.78  0.00  0.0  1002      2\n",
              "3    1.51766  13.21  3.6900  1.29  72.61  0.57  8.22  0.00  0.0  1003      2\n",
              "4    1.51742  13.27  3.6200  1.24  73.08  0.55  8.07  0.00  0.0  1004      2\n",
              "..       ...    ...     ...   ...    ...   ...   ...   ...  ...   ...    ...\n",
              "209  1.51623  14.14  0.0000  2.88  72.61  0.08  9.18  1.06  0.0  1209      1\n",
              "210  1.51685  14.92  0.0000  1.99  73.06  0.00  8.40  1.59  0.0  1210      1\n",
              "211  1.52065  14.36  0.0000  2.02  73.42  0.00  8.44  1.64  0.0  1211      1\n",
              "212  1.51651  14.38  0.0000  1.94  73.61  0.00  8.48  1.57  0.0  1212      1\n",
              "213  1.51711  14.23  0.0000  2.08  73.36  0.00  8.62  1.67  0.0  1213      1\n",
              "\n",
              "[214 rows x 11 columns]"
            ]
          },
          "metadata": {
            "tags": []
          },
          "execution_count": 41
        }
      ]
    },
    {
      "cell_type": "code",
      "metadata": {
        "colab": {
          "base_uri": "https://localhost:8080/"
        },
        "id": "ilTF18fP8JWO",
        "outputId": "3aa9725f-807b-4822-ef99-1abafb4af780"
      },
      "source": [
        "df['label'].value_counts()"
      ],
      "execution_count": null,
      "outputs": [
        {
          "output_type": "execute_result",
          "data": {
            "text/plain": [
              "2    134\n",
              "0     51\n",
              "1     29\n",
              "Name: label, dtype: int64"
            ]
          },
          "metadata": {
            "tags": []
          },
          "execution_count": 42
        }
      ]
    },
    {
      "cell_type": "code",
      "metadata": {
        "colab": {
          "base_uri": "https://localhost:8080/",
          "height": 175
        },
        "id": "iGVRmSd-8lGk",
        "outputId": "3c11b9ef-783c-49fc-9bd2-31abd509ab35"
      },
      "source": [
        "df.groupby('label')[['Ca','Fe', 'K','Mg']].mean()"
      ],
      "execution_count": null,
      "outputs": [
        {
          "output_type": "execute_result",
          "data": {
            "text/html": [
              "<div>\n",
              "<style scoped>\n",
              "    .dataframe tbody tr th:only-of-type {\n",
              "        vertical-align: middle;\n",
              "    }\n",
              "\n",
              "    .dataframe tbody tr th {\n",
              "        vertical-align: top;\n",
              "    }\n",
              "\n",
              "    .dataframe thead th {\n",
              "        text-align: right;\n",
              "    }\n",
              "</style>\n",
              "<table border=\"1\" class=\"dataframe\">\n",
              "  <thead>\n",
              "    <tr style=\"text-align: right;\">\n",
              "      <th></th>\n",
              "      <th>Ca</th>\n",
              "      <th>Fe</th>\n",
              "      <th>K</th>\n",
              "      <th>Mg</th>\n",
              "    </tr>\n",
              "    <tr>\n",
              "      <th>label</th>\n",
              "      <th></th>\n",
              "      <th></th>\n",
              "      <th></th>\n",
              "      <th></th>\n",
              "    </tr>\n",
              "  </thead>\n",
              "  <tbody>\n",
              "    <tr>\n",
              "      <th>0</th>\n",
              "      <td>10.641780</td>\n",
              "      <td>0.061935</td>\n",
              "      <td>0.210392</td>\n",
              "      <td>2.226565</td>\n",
              "    </tr>\n",
              "    <tr>\n",
              "      <th>1</th>\n",
              "      <td>8.478138</td>\n",
              "      <td>0.013448</td>\n",
              "      <td>0.171724</td>\n",
              "      <td>0.353103</td>\n",
              "    </tr>\n",
              "    <tr>\n",
              "      <th>2</th>\n",
              "      <td>8.410806</td>\n",
              "      <td>0.063190</td>\n",
              "      <td>0.621443</td>\n",
              "      <td>3.359325</td>\n",
              "    </tr>\n",
              "  </tbody>\n",
              "</table>\n",
              "</div>"
            ],
            "text/plain": [
              "              Ca        Fe         K        Mg\n",
              "label                                         \n",
              "0      10.641780  0.061935  0.210392  2.226565\n",
              "1       8.478138  0.013448  0.171724  0.353103\n",
              "2       8.410806  0.063190  0.621443  3.359325"
            ]
          },
          "metadata": {
            "tags": []
          },
          "execution_count": 43
        }
      ]
    },
    {
      "cell_type": "code",
      "metadata": {
        "colab": {
          "base_uri": "https://localhost:8080/"
        },
        "id": "82uIbpis9CA9",
        "outputId": "5587788c-8438-455f-e3f3-f67670de2359"
      },
      "source": [
        "df[df[ 'label']==0].ID"
      ],
      "execution_count": null,
      "outputs": [
        {
          "output_type": "execute_result",
          "data": {
            "text/plain": [
              "0      1000\n",
              "17     1017\n",
              "18     1018\n",
              "21     1021\n",
              "38     1038\n",
              "39     1039\n",
              "43     1043\n",
              "47     1047\n",
              "48     1048\n",
              "50     1050\n",
              "61     1061\n",
              "62     1062\n",
              "63     1063\n",
              "64     1064\n",
              "65     1065\n",
              "66     1066\n",
              "67     1067\n",
              "68     1068\n",
              "69     1069\n",
              "103    1103\n",
              "104    1104\n",
              "105    1105\n",
              "106    1106\n",
              "107    1107\n",
              "108    1108\n",
              "109    1109\n",
              "110    1110\n",
              "111    1111\n",
              "112    1112\n",
              "127    1127\n",
              "128    1128\n",
              "129    1129\n",
              "130    1130\n",
              "131    1131\n",
              "151    1151\n",
              "157    1157\n",
              "162    1162\n",
              "165    1165\n",
              "166    1166\n",
              "167    1167\n",
              "169    1169\n",
              "170    1170\n",
              "173    1173\n",
              "175    1175\n",
              "176    1176\n",
              "177    1177\n",
              "178    1178\n",
              "183    1183\n",
              "187    1187\n",
              "188    1188\n",
              "189    1189\n",
              "Name: ID, dtype: int64"
            ]
          },
          "metadata": {
            "tags": []
          },
          "execution_count": 44
        }
      ]
    },
    {
      "cell_type": "code",
      "metadata": {
        "id": "NUwqclwN-jZQ"
      },
      "source": [
        "from mp"
      ],
      "execution_count": null,
      "outputs": []
    },
    {
      "cell_type": "code",
      "metadata": {
        "colab": {
          "base_uri": "https://localhost:8080/",
          "height": 769
        },
        "id": "A9LI5R3--R6W",
        "outputId": "658270ef-5e57-4bb9-9340-8c7e273070c9"
      },
      "source": [
        "colores = [ 'r', 'g', 'b']\n",
        "centroides = kmeans.cluster_centers_\n",
        "fig = plt.figure(figsize=(10,10))\n",
        "ax= Axes3D(fig)\n",
        "ax.scatter(centroides[:,0],centroides[:,1],centroides[:,2],c=colores,marker='o',s=300)"
      ],
      "execution_count": null,
      "outputs": [
        {
          "output_type": "execute_result",
          "data": {
            "text/plain": [
              "<mpl_toolkits.mplot3d.art3d.Path3DCollection at 0x7f8879392190>"
            ]
          },
          "metadata": {
            "tags": []
          },
          "execution_count": 48
        },
        {
          "output_type": "display_data",
          "data": {
            "image/png": "[encoded data removed]",
            "text/plain": [
              "<Figure size 720x720 with 1 Axes>"
            ]
          },
          "metadata": {
            "tags": [],
            "needs_background": "light"
          }
        }
      ]
    }
  ]
}