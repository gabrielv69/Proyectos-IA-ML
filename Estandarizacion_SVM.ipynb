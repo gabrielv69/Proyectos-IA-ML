{
  "nbformat": 4,
  "nbformat_minor": 0,
  "metadata": {
    "colab": {
      "provenance": [],
      "collapsed_sections": []
    },
    "kernelspec": {
      "name": "python3",
      "display_name": "Python 3"
    },
    "accelerator": "GPU"
  },
  "cells": [
    {
      "cell_type": "code",
      "metadata": {
        "id": "ATpy9amsRVSJ"
      },
      "source": [
        "pip install mglearn"
      ],
      "execution_count": null,
      "outputs": []
    },
    {
      "cell_type": "code",
      "metadata": {
        "id": "6Vx5ogssQaPW"
      },
      "source": [
        "#Se define las librerias a utilizar\n",
        "from sklearn.svm import SVC\n",
        "from sklearn.decomposition import PCA\n",
        "import pandas as pd #procesamiento de archivos\n",
        "import numpy as np\n",
        "import matplotlib.pyplot as plt\n",
        "import mglearn\n",
        "from keras.models import Sequential\n",
        "from keras.layers import Dense\n",
        "from sklearn.linear_model import LogisticRegression\n",
        "from sklearn.linear_model import LinearRegression\n",
        "from sklearn.model_selection import train_test_split\n",
        "from sklearn.metrics import confusion_matrix  #matrix de confusion\n",
        "from sklearn import preprocessing\n",
        "from keras import optimizers\n",
        "from sklearn.metrics import classification_report\n",
        "from sklearn.preprocessing import minmax_scale"
      ],
      "execution_count": null,
      "outputs": []
    },
    {
      "cell_type": "code",
      "metadata": {
        "id": "KTyg8QpCRbNC"
      },
      "source": [
        "def leerData(ruta):\n",
        "    df = pd.read_csv(ruta)\n",
        "    return df\n",
        "\n",
        "def clasificadorSVM(kernel, X,y):\n",
        "    cls=SVC(kernel=kernel,gamma=10)\n",
        "    cls.fit(X,y)\n",
        "    cls.score(X,y)\n",
        "    return cls\n",
        "\n",
        "def resultadosSVM(cls, X, y):\n",
        "    score = cls.score(X, y)\n",
        "    return score\n",
        "\n",
        "def predecirSVM(cls, X, y):\n",
        "    yPred = cls.predict(X)\n",
        "    matrixConf = confusion_matrix(y, yPred)\n",
        "    report = classification_report(y, yPred)\n",
        "    return matrixConf, report"
      ],
      "execution_count": null,
      "outputs": []
    },
    {
      "cell_type": "code",
      "metadata": {
        "id": "IpWG7eyXz09U"
      },
      "source": [
        "#Leer Data\n",
        "#https://www.kaggle.com/ronitf/heart-disease-uci\n",
        "dataframe=leerData('/content/heart.csv')"
      ],
      "execution_count": null,
      "outputs": []
    },
    {
      "cell_type": "code",
      "metadata": {
        "id": "7ZuOV4U60spj",
        "colab": {
          "base_uri": "https://localhost:8080/",
          "height": 206
        },
        "outputId": "2bfedfd8-1336-4417-98b1-0efdcfaeb655"
      },
      "source": [
        "dataframe.head()"
      ],
      "execution_count": null,
      "outputs": [
        {
          "output_type": "execute_result",
          "data": {
            "text/html": [
              "<div>\n",
              "<style scoped>\n",
              "    .dataframe tbody tr th:only-of-type {\n",
              "        vertical-align: middle;\n",
              "    }\n",
              "\n",
              "    .dataframe tbody tr th {\n",
              "        vertical-align: top;\n",
              "    }\n",
              "\n",
              "    .dataframe thead th {\n",
              "        text-align: right;\n",
              "    }\n",
              "</style>\n",
              "<table border=\"1\" class=\"dataframe\">\n",
              "  <thead>\n",
              "    <tr style=\"text-align: right;\">\n",
              "      <th></th>\n",
              "      <th>age</th>\n",
              "      <th>sex</th>\n",
              "      <th>cp</th>\n",
              "      <th>trestbps</th>\n",
              "      <th>chol</th>\n",
              "      <th>fbs</th>\n",
              "      <th>restecg</th>\n",
              "      <th>thalach</th>\n",
              "      <th>exang</th>\n",
              "      <th>oldpeak</th>\n",
              "      <th>slope</th>\n",
              "      <th>ca</th>\n",
              "      <th>thal</th>\n",
              "      <th>target</th>\n",
              "    </tr>\n",
              "  </thead>\n",
              "  <tbody>\n",
              "    <tr>\n",
              "      <th>0</th>\n",
              "      <td>63</td>\n",
              "      <td>1</td>\n",
              "      <td>3</td>\n",
              "      <td>145</td>\n",
              "      <td>233</td>\n",
              "      <td>1</td>\n",
              "      <td>0</td>\n",
              "      <td>150</td>\n",
              "      <td>0</td>\n",
              "      <td>2.3</td>\n",
              "      <td>0</td>\n",
              "      <td>0</td>\n",
              "      <td>1</td>\n",
              "      <td>1</td>\n",
              "    </tr>\n",
              "    <tr>\n",
              "      <th>1</th>\n",
              "      <td>37</td>\n",
              "      <td>1</td>\n",
              "      <td>2</td>\n",
              "      <td>130</td>\n",
              "      <td>250</td>\n",
              "      <td>0</td>\n",
              "      <td>1</td>\n",
              "      <td>187</td>\n",
              "      <td>0</td>\n",
              "      <td>3.5</td>\n",
              "      <td>0</td>\n",
              "      <td>0</td>\n",
              "      <td>2</td>\n",
              "      <td>1</td>\n",
              "    </tr>\n",
              "    <tr>\n",
              "      <th>2</th>\n",
              "      <td>41</td>\n",
              "      <td>0</td>\n",
              "      <td>1</td>\n",
              "      <td>130</td>\n",
              "      <td>204</td>\n",
              "      <td>0</td>\n",
              "      <td>0</td>\n",
              "      <td>172</td>\n",
              "      <td>0</td>\n",
              "      <td>1.4</td>\n",
              "      <td>2</td>\n",
              "      <td>0</td>\n",
              "      <td>2</td>\n",
              "      <td>1</td>\n",
              "    </tr>\n",
              "    <tr>\n",
              "      <th>3</th>\n",
              "      <td>56</td>\n",
              "      <td>1</td>\n",
              "      <td>1</td>\n",
              "      <td>120</td>\n",
              "      <td>236</td>\n",
              "      <td>0</td>\n",
              "      <td>1</td>\n",
              "      <td>178</td>\n",
              "      <td>0</td>\n",
              "      <td>0.8</td>\n",
              "      <td>2</td>\n",
              "      <td>0</td>\n",
              "      <td>2</td>\n",
              "      <td>1</td>\n",
              "    </tr>\n",
              "    <tr>\n",
              "      <th>4</th>\n",
              "      <td>57</td>\n",
              "      <td>0</td>\n",
              "      <td>0</td>\n",
              "      <td>120</td>\n",
              "      <td>354</td>\n",
              "      <td>0</td>\n",
              "      <td>1</td>\n",
              "      <td>163</td>\n",
              "      <td>1</td>\n",
              "      <td>0.6</td>\n",
              "      <td>2</td>\n",
              "      <td>0</td>\n",
              "      <td>2</td>\n",
              "      <td>1</td>\n",
              "    </tr>\n",
              "  </tbody>\n",
              "</table>\n",
              "</div>"
            ],
            "text/plain": [
              "   age  sex  cp  trestbps  chol  fbs  ...  exang  oldpeak  slope  ca  thal  target\n",
              "0   63    1   3       145   233    1  ...      0      2.3      0   0     1       1\n",
              "1   37    1   2       130   250    0  ...      0      3.5      0   0     2       1\n",
              "2   41    0   1       130   204    0  ...      0      1.4      2   0     2       1\n",
              "3   56    1   1       120   236    0  ...      0      0.8      2   0     2       1\n",
              "4   57    0   0       120   354    0  ...      1      0.6      2   0     2       1\n",
              "\n",
              "[5 rows x 14 columns]"
            ]
          },
          "metadata": {
            "tags": []
          },
          "execution_count": 8
        }
      ]
    },
    {
      "cell_type": "code",
      "metadata": {
        "id": "uVcKHEkYFZ7j",
        "colab": {
          "base_uri": "https://localhost:8080/",
          "height": 112
        },
        "outputId": "d5a1eca9-5cde-4327-ebcf-5e6d1d0a347e"
      },
      "source": [
        "#Verificamos balanceo de Datos\n",
        "frecuencia = pd.value_counts(dataframe.target).to_frame().reset_index()\n",
        "frecuencia.rename(columns={\"index\":\"Ataque\",\"Ataque\":\"Frecuencia\"})"
      ],
      "execution_count": null,
      "outputs": [
        {
          "output_type": "execute_result",
          "data": {
            "text/html": [
              "<div>\n",
              "<style scoped>\n",
              "    .dataframe tbody tr th:only-of-type {\n",
              "        vertical-align: middle;\n",
              "    }\n",
              "\n",
              "    .dataframe tbody tr th {\n",
              "        vertical-align: top;\n",
              "    }\n",
              "\n",
              "    .dataframe thead th {\n",
              "        text-align: right;\n",
              "    }\n",
              "</style>\n",
              "<table border=\"1\" class=\"dataframe\">\n",
              "  <thead>\n",
              "    <tr style=\"text-align: right;\">\n",
              "      <th></th>\n",
              "      <th>Ataque</th>\n",
              "      <th>target</th>\n",
              "    </tr>\n",
              "  </thead>\n",
              "  <tbody>\n",
              "    <tr>\n",
              "      <th>0</th>\n",
              "      <td>1</td>\n",
              "      <td>165</td>\n",
              "    </tr>\n",
              "    <tr>\n",
              "      <th>1</th>\n",
              "      <td>0</td>\n",
              "      <td>138</td>\n",
              "    </tr>\n",
              "  </tbody>\n",
              "</table>\n",
              "</div>"
            ],
            "text/plain": [
              "   Ataque  target\n",
              "0       1     165\n",
              "1       0     138"
            ]
          },
          "metadata": {
            "tags": []
          },
          "execution_count": 9
        }
      ]
    },
    {
      "cell_type": "code",
      "metadata": {
        "id": "JrGf3BgJ01zV",
        "colab": {
          "base_uri": "https://localhost:8080/",
          "height": 715
        },
        "outputId": "e5ee61e9-dfa9-4dd9-df31-d312bde8e19a"
      },
      "source": [
        "#Información sobre el Dataset\n",
        "print(f'Número de Datos: {dataframe.shape[0]}, {dataframe.shape[1] - 1} variables 1 variable dependiente.')\n",
        "print(dataframe.info())\n",
        "\n",
        "#Verificación de no nulos\n",
        "dataframe.isnull().sum()"
      ],
      "execution_count": null,
      "outputs": [
        {
          "output_type": "stream",
          "text": [
            "Número de Datos: 303, 13 variables 1 variable dependiente.\n",
            "<class 'pandas.core.frame.DataFrame'>\n",
            "RangeIndex: 303 entries, 0 to 302\n",
            "Data columns (total 14 columns):\n",
            " #   Column    Non-Null Count  Dtype  \n",
            "---  ------    --------------  -----  \n",
            " 0   age       303 non-null    int64  \n",
            " 1   sex       303 non-null    int64  \n",
            " 2   cp        303 non-null    int64  \n",
            " 3   trestbps  303 non-null    int64  \n",
            " 4   chol      303 non-null    int64  \n",
            " 5   fbs       303 non-null    int64  \n",
            " 6   restecg   303 non-null    int64  \n",
            " 7   thalach   303 non-null    int64  \n",
            " 8   exang     303 non-null    int64  \n",
            " 9   oldpeak   303 non-null    float64\n",
            " 10  slope     303 non-null    int64  \n",
            " 11  ca        303 non-null    int64  \n",
            " 12  thal      303 non-null    int64  \n",
            " 13  target    303 non-null    int64  \n",
            "dtypes: float64(1), int64(13)\n",
            "memory usage: 33.3 KB\n",
            "None\n"
          ],
          "name": "stdout"
        },
        {
          "output_type": "execute_result",
          "data": {
            "text/plain": [
              "age         0\n",
              "sex         0\n",
              "cp          0\n",
              "trestbps    0\n",
              "chol        0\n",
              "fbs         0\n",
              "restecg     0\n",
              "thalach     0\n",
              "exang       0\n",
              "oldpeak     0\n",
              "slope       0\n",
              "ca          0\n",
              "thal        0\n",
              "target      0\n",
              "dtype: int64"
            ]
          },
          "metadata": {
            "tags": []
          },
          "execution_count": 10
        }
      ]
    },
    {
      "cell_type": "code",
      "metadata": {
        "id": "c7cVvfcf1QdK",
        "colab": {
          "base_uri": "https://localhost:8080/",
          "height": 501
        },
        "outputId": "8bd8905d-2d95-41e0-d770-0a5bdbee60be"
      },
      "source": [
        "#Histogramas\n",
        "print(dataframe.describe())\n",
        "dataframe.hist()\n",
        "plt.show"
      ],
      "execution_count": null,
      "outputs": [
        {
          "output_type": "stream",
          "text": [
            "              age         sex          cp  ...          ca        thal      target\n",
            "count  303.000000  303.000000  303.000000  ...  303.000000  303.000000  303.000000\n",
            "mean    54.366337    0.683168    0.966997  ...    0.729373    2.313531    0.544554\n",
            "std      9.082101    0.466011    1.032052  ...    1.022606    0.612277    0.498835\n",
            "min     29.000000    0.000000    0.000000  ...    0.000000    0.000000    0.000000\n",
            "25%     47.500000    0.000000    0.000000  ...    0.000000    2.000000    0.000000\n",
            "50%     55.000000    1.000000    1.000000  ...    0.000000    2.000000    1.000000\n",
            "75%     61.000000    1.000000    2.000000  ...    1.000000    3.000000    1.000000\n",
            "max     77.000000    1.000000    3.000000  ...    4.000000    3.000000    1.000000\n",
            "\n",
            "[8 rows x 14 columns]\n"
          ],
          "name": "stdout"
        },
        {
          "output_type": "execute_result",
          "data": {
            "text/plain": [
              "<function matplotlib.pyplot.show>"
            ]
          },
          "metadata": {
            "tags": []
          },
          "execution_count": 11
        },
        {
          "output_type": "display_data",
          "data": {
            "image/png": "[encoded data removed]",
            "text/plain": [
              "<Figure size 432x288 with 16 Axes>"
            ]
          },
          "metadata": {
            "tags": [],
            "needs_background": "light"
          }
        }
      ]
    },
    {
      "cell_type": "code",
      "metadata": {
        "id": "WOF9A0b4KNSt",
        "colab": {
          "base_uri": "https://localhost:8080/",
          "height": 294
        },
        "outputId": "421193ff-0e53-442f-c65e-426b8a4937e8"
      },
      "source": [
        "#Observamos cuantos valores distintos tiene cada atributo\n",
        "print(\"Age: \",sorted(dataframe.age.unique()))\n",
        "print(\"Sex: \", dataframe.sex.unique())\n",
        "print(\"Cp: \", sorted(dataframe.cp.unique()))\n",
        "print(\"Trest: \", sorted(dataframe.trestbps.unique()))\n",
        "print(\"Chol: \", sorted(dataframe.chol.unique()))\n",
        "print(\"fbs: \", sorted(dataframe.fbs.unique()))\n",
        "print(\"restecg: \", sorted(dataframe.restecg.unique()))\n",
        "print(\"thalach: \", sorted(dataframe.thalach.unique()))\n",
        "print(\"exang: \", sorted(dataframe.exang.unique()))\n",
        "print(\"oldpeak: \", sorted(dataframe.oldpeak.unique()))\n",
        "print(\"slope: \", sorted(dataframe.slope.unique()))\n",
        "print(\"ca: \", sorted(dataframe.ca.unique()))\n",
        "print(\"thal: \", sorted(dataframe.thal.unique()))\n",
        "print(\"target: \", sorted(dataframe.target.unique()))"
      ],
      "execution_count": null,
      "outputs": [
        {
          "output_type": "stream",
          "text": [
            "Age:  [29, 34, 35, 37, 38, 39, 40, 41, 42, 43, 44, 45, 46, 47, 48, 49, 50, 51, 52, 53, 54, 55, 56, 57, 58, 59, 60, 61, 62, 63, 64, 65, 66, 67, 68, 69, 70, 71, 74, 76, 77]\n",
            "Sex:  [1 0]\n",
            "Cp:  [0, 1, 2, 3]\n",
            "Trest:  [94, 100, 101, 102, 104, 105, 106, 108, 110, 112, 114, 115, 117, 118, 120, 122, 123, 124, 125, 126, 128, 129, 130, 132, 134, 135, 136, 138, 140, 142, 144, 145, 146, 148, 150, 152, 154, 155, 156, 160, 164, 165, 170, 172, 174, 178, 180, 192, 200]\n",
            "Chol:  [126, 131, 141, 149, 157, 160, 164, 166, 167, 168, 169, 172, 174, 175, 176, 177, 178, 180, 182, 183, 184, 185, 186, 187, 188, 192, 193, 195, 196, 197, 198, 199, 200, 201, 203, 204, 205, 206, 207, 208, 209, 210, 211, 212, 213, 214, 215, 216, 217, 218, 219, 220, 221, 222, 223, 224, 225, 226, 227, 228, 229, 230, 231, 232, 233, 234, 235, 236, 237, 239, 240, 241, 242, 243, 244, 245, 246, 247, 248, 249, 250, 252, 253, 254, 255, 256, 257, 258, 259, 260, 261, 262, 263, 264, 265, 266, 267, 268, 269, 270, 271, 273, 274, 275, 276, 277, 278, 281, 282, 283, 284, 286, 288, 289, 290, 293, 294, 295, 298, 299, 300, 302, 303, 304, 305, 306, 307, 308, 309, 311, 313, 315, 318, 319, 321, 322, 325, 326, 327, 330, 335, 340, 341, 342, 353, 354, 360, 394, 407, 409, 417, 564]\n",
            "fbs:  [0, 1]\n",
            "restecg:  [0, 1, 2]\n",
            "thalach:  [71, 88, 90, 95, 96, 97, 99, 103, 105, 106, 108, 109, 111, 112, 113, 114, 115, 116, 117, 118, 120, 121, 122, 123, 124, 125, 126, 127, 128, 129, 130, 131, 132, 133, 134, 136, 137, 138, 139, 140, 141, 142, 143, 144, 145, 146, 147, 148, 149, 150, 151, 152, 153, 154, 155, 156, 157, 158, 159, 160, 161, 162, 163, 164, 165, 166, 167, 168, 169, 170, 171, 172, 173, 174, 175, 177, 178, 179, 180, 181, 182, 184, 185, 186, 187, 188, 190, 192, 194, 195, 202]\n",
            "exang:  [0, 1]\n",
            "oldpeak:  [0.0, 0.1, 0.2, 0.3, 0.4, 0.5, 0.6, 0.7, 0.8, 0.9, 1.0, 1.1, 1.2, 1.3, 1.4, 1.5, 1.6, 1.8, 1.9, 2.0, 2.1, 2.2, 2.3, 2.4, 2.5, 2.6, 2.8, 2.9, 3.0, 3.1, 3.2, 3.4, 3.5, 3.6, 3.8, 4.0, 4.2, 4.4, 5.6, 6.2]\n",
            "slope:  [0, 1, 2]\n",
            "ca:  [0, 1, 2, 3, 4]\n",
            "thal:  [0, 1, 2, 3]\n",
            "target:  [0, 1]\n"
          ],
          "name": "stdout"
        }
      ]
    },
    {
      "cell_type": "code",
      "metadata": {
        "id": "_3OA-KukNPoc",
        "colab": {
          "base_uri": "https://localhost:8080/",
          "height": 226
        },
        "outputId": "e36fbf59-cbfb-42ba-8ff6-abadefa1cf30"
      },
      "source": [
        "#Cambio de variables de categoricas a numericas\n",
        "nominal_features = ['sex','fbs','exang'] #sex1: 1=Male, 0=Female ; fbs1; 1:Mayor a 120mg/ml', 0= menor ; exang: 1=Angina inducida por ejercicio, 0= no\n",
        "nominal_features2 = ['cp','restecg', 'slope','ca' ,'thal']\n",
        "dataarr= pd.get_dummies(dataframe.drop(['target'], axis = 1),columns = nominal_features, drop_first=True)\n",
        "dataarr2= pd.get_dummies(dataarr,columns = nominal_features2)\n",
        "dataarr2.head()"
      ],
      "execution_count": null,
      "outputs": [
        {
          "output_type": "execute_result",
          "data": {
            "text/html": [
              "<div>\n",
              "<style scoped>\n",
              "    .dataframe tbody tr th:only-of-type {\n",
              "        vertical-align: middle;\n",
              "    }\n",
              "\n",
              "    .dataframe tbody tr th {\n",
              "        vertical-align: top;\n",
              "    }\n",
              "\n",
              "    .dataframe thead th {\n",
              "        text-align: right;\n",
              "    }\n",
              "</style>\n",
              "<table border=\"1\" class=\"dataframe\">\n",
              "  <thead>\n",
              "    <tr style=\"text-align: right;\">\n",
              "      <th></th>\n",
              "      <th>age</th>\n",
              "      <th>trestbps</th>\n",
              "      <th>chol</th>\n",
              "      <th>thalach</th>\n",
              "      <th>oldpeak</th>\n",
              "      <th>sex_1</th>\n",
              "      <th>fbs_1</th>\n",
              "      <th>exang_1</th>\n",
              "      <th>cp_0</th>\n",
              "      <th>cp_1</th>\n",
              "      <th>cp_2</th>\n",
              "      <th>cp_3</th>\n",
              "      <th>restecg_0</th>\n",
              "      <th>restecg_1</th>\n",
              "      <th>restecg_2</th>\n",
              "      <th>slope_0</th>\n",
              "      <th>slope_1</th>\n",
              "      <th>slope_2</th>\n",
              "      <th>ca_0</th>\n",
              "      <th>ca_1</th>\n",
              "      <th>ca_2</th>\n",
              "      <th>ca_3</th>\n",
              "      <th>ca_4</th>\n",
              "      <th>thal_0</th>\n",
              "      <th>thal_1</th>\n",
              "      <th>thal_2</th>\n",
              "      <th>thal_3</th>\n",
              "    </tr>\n",
              "  </thead>\n",
              "  <tbody>\n",
              "    <tr>\n",
              "      <th>0</th>\n",
              "      <td>63</td>\n",
              "      <td>145</td>\n",
              "      <td>233</td>\n",
              "      <td>150</td>\n",
              "      <td>2.3</td>\n",
              "      <td>1</td>\n",
              "      <td>1</td>\n",
              "      <td>0</td>\n",
              "      <td>0</td>\n",
              "      <td>0</td>\n",
              "      <td>0</td>\n",
              "      <td>1</td>\n",
              "      <td>1</td>\n",
              "      <td>0</td>\n",
              "      <td>0</td>\n",
              "      <td>1</td>\n",
              "      <td>0</td>\n",
              "      <td>0</td>\n",
              "      <td>1</td>\n",
              "      <td>0</td>\n",
              "      <td>0</td>\n",
              "      <td>0</td>\n",
              "      <td>0</td>\n",
              "      <td>0</td>\n",
              "      <td>1</td>\n",
              "      <td>0</td>\n",
              "      <td>0</td>\n",
              "    </tr>\n",
              "    <tr>\n",
              "      <th>1</th>\n",
              "      <td>37</td>\n",
              "      <td>130</td>\n",
              "      <td>250</td>\n",
              "      <td>187</td>\n",
              "      <td>3.5</td>\n",
              "      <td>1</td>\n",
              "      <td>0</td>\n",
              "      <td>0</td>\n",
              "      <td>0</td>\n",
              "      <td>0</td>\n",
              "      <td>1</td>\n",
              "      <td>0</td>\n",
              "      <td>0</td>\n",
              "      <td>1</td>\n",
              "      <td>0</td>\n",
              "      <td>1</td>\n",
              "      <td>0</td>\n",
              "      <td>0</td>\n",
              "      <td>1</td>\n",
              "      <td>0</td>\n",
              "      <td>0</td>\n",
              "      <td>0</td>\n",
              "      <td>0</td>\n",
              "      <td>0</td>\n",
              "      <td>0</td>\n",
              "      <td>1</td>\n",
              "      <td>0</td>\n",
              "    </tr>\n",
              "    <tr>\n",
              "      <th>2</th>\n",
              "      <td>41</td>\n",
              "      <td>130</td>\n",
              "      <td>204</td>\n",
              "      <td>172</td>\n",
              "      <td>1.4</td>\n",
              "      <td>0</td>\n",
              "      <td>0</td>\n",
              "      <td>0</td>\n",
              "      <td>0</td>\n",
              "      <td>1</td>\n",
              "      <td>0</td>\n",
              "      <td>0</td>\n",
              "      <td>1</td>\n",
              "      <td>0</td>\n",
              "      <td>0</td>\n",
              "      <td>0</td>\n",
              "      <td>0</td>\n",
              "      <td>1</td>\n",
              "      <td>1</td>\n",
              "      <td>0</td>\n",
              "      <td>0</td>\n",
              "      <td>0</td>\n",
              "      <td>0</td>\n",
              "      <td>0</td>\n",
              "      <td>0</td>\n",
              "      <td>1</td>\n",
              "      <td>0</td>\n",
              "    </tr>\n",
              "    <tr>\n",
              "      <th>3</th>\n",
              "      <td>56</td>\n",
              "      <td>120</td>\n",
              "      <td>236</td>\n",
              "      <td>178</td>\n",
              "      <td>0.8</td>\n",
              "      <td>1</td>\n",
              "      <td>0</td>\n",
              "      <td>0</td>\n",
              "      <td>0</td>\n",
              "      <td>1</td>\n",
              "      <td>0</td>\n",
              "      <td>0</td>\n",
              "      <td>0</td>\n",
              "      <td>1</td>\n",
              "      <td>0</td>\n",
              "      <td>0</td>\n",
              "      <td>0</td>\n",
              "      <td>1</td>\n",
              "      <td>1</td>\n",
              "      <td>0</td>\n",
              "      <td>0</td>\n",
              "      <td>0</td>\n",
              "      <td>0</td>\n",
              "      <td>0</td>\n",
              "      <td>0</td>\n",
              "      <td>1</td>\n",
              "      <td>0</td>\n",
              "    </tr>\n",
              "    <tr>\n",
              "      <th>4</th>\n",
              "      <td>57</td>\n",
              "      <td>120</td>\n",
              "      <td>354</td>\n",
              "      <td>163</td>\n",
              "      <td>0.6</td>\n",
              "      <td>0</td>\n",
              "      <td>0</td>\n",
              "      <td>1</td>\n",
              "      <td>1</td>\n",
              "      <td>0</td>\n",
              "      <td>0</td>\n",
              "      <td>0</td>\n",
              "      <td>0</td>\n",
              "      <td>1</td>\n",
              "      <td>0</td>\n",
              "      <td>0</td>\n",
              "      <td>0</td>\n",
              "      <td>1</td>\n",
              "      <td>1</td>\n",
              "      <td>0</td>\n",
              "      <td>0</td>\n",
              "      <td>0</td>\n",
              "      <td>0</td>\n",
              "      <td>0</td>\n",
              "      <td>0</td>\n",
              "      <td>1</td>\n",
              "      <td>0</td>\n",
              "    </tr>\n",
              "  </tbody>\n",
              "</table>\n",
              "</div>"
            ],
            "text/plain": [
              "   age  trestbps  chol  thalach  oldpeak  ...  ca_4  thal_0  thal_1  thal_2  thal_3\n",
              "0   63       145   233      150      2.3  ...     0       0       1       0       0\n",
              "1   37       130   250      187      3.5  ...     0       0       0       1       0\n",
              "2   41       130   204      172      1.4  ...     0       0       0       1       0\n",
              "3   56       120   236      178      0.8  ...     0       0       0       1       0\n",
              "4   57       120   354      163      0.6  ...     0       0       0       1       0\n",
              "\n",
              "[5 rows x 27 columns]"
            ]
          },
          "metadata": {
            "tags": []
          },
          "execution_count": 86
        }
      ]
    },
    {
      "cell_type": "code",
      "metadata": {
        "id": "gZMMYOjp4LA8"
      },
      "source": [
        "#Creamos X y Y\n",
        "x = dataarr2\n",
        "y = dataframe['target']"
      ],
      "execution_count": null,
      "outputs": []
    },
    {
      "cell_type": "markdown",
      "metadata": {
        "id": "iLJMoEbGeYAE"
      },
      "source": [
        "**ESTANDARIZACIÓN**"
      ]
    },
    {
      "cell_type": "code",
      "metadata": {
        "id": "48qskswESkfp"
      },
      "source": [
        "#Estandarizamos los datos\n",
        "from sklearn.preprocessing import MinMaxScaler,StandardScaler\n",
        "sc = StandardScaler()\n",
        "x = sc.fit_transform(x)"
      ],
      "execution_count": null,
      "outputs": []
    },
    {
      "cell_type": "code",
      "metadata": {
        "id": "myQfHSgIbjcm"
      },
      "source": [
        "#Dividimos los datos\n",
        "X_train, X_test, y_train, y_test = train_test_split(x, y, test_size=0.3, random_state=42)"
      ],
      "execution_count": null,
      "outputs": []
    },
    {
      "cell_type": "code",
      "metadata": {
        "id": "2sCXMP7MSxLa"
      },
      "source": [
        "# Se ejecuta el clafificador para generar el modelo\n",
        "cls0=clasificadorSVM(\"linear\",x,y) #Lineal\n",
        "cls1=clasificadorSVM(\"poly\",x,y) #Poly\n",
        "cls2=clasificadorSVM(\"rbf\",x,y) #rbf"
      ],
      "execution_count": null,
      "outputs": []
    },
    {
      "cell_type": "code",
      "metadata": {
        "id": "sCUlIHP2TFY5",
        "colab": {
          "base_uri": "https://localhost:8080/",
          "height": 182
        },
        "outputId": "d225f715-368a-4e9e-ca99-69bbbf5aa999"
      },
      "source": [
        "#Se obtiene y se imprime medidas de Rendimiento\n",
        "print('Clasificador Lineal')\n",
        "score_Train=resultadosSVM(cls0,X_train,y_train)\n",
        "print(round(score_Train,6))\n",
        "score_Test=resultadosSVM(cls0,X_test,y_test)\n",
        "print(round(score_Test,6))\n",
        "print('Clasificador Poly')\n",
        "score_Train1=resultadosSVM(cls1,X_train,y_train)\n",
        "print(round(score_Train1,6))\n",
        "score_Test1=resultadosSVM(cls1,X_test,y_test)\n",
        "print(round(score_Test1,6))\n",
        "print('Clasificador Rbf')\n",
        "score_Train2=resultadosSVM(cls2,X_train,y_train)\n",
        "print(round(score_Train2,6))\n",
        "score_Test2=resultadosSVM(cls2,X_test,y_test)\n",
        "print(round(score_Test2,6))"
      ],
      "execution_count": null,
      "outputs": [
        {
          "output_type": "stream",
          "text": [
            "Clasificador Lineal\n",
            "0.877358\n",
            "0.868132\n",
            "Clasificador Poly\n",
            "1.0\n",
            "1.0\n",
            "Clasificador Rbf\n",
            "1.0\n",
            "1.0\n"
          ],
          "name": "stdout"
        }
      ]
    },
    {
      "cell_type": "code",
      "metadata": {
        "id": "XExzD4ZpTMQm",
        "colab": {
          "base_uri": "https://localhost:8080/",
          "height": 1000
        },
        "outputId": "3e78d56a-30b7-4676-b118-31865d066bed"
      },
      "source": [
        "#Se obtiene y se imprime la matrices de confusion\n",
        "print('Clasificador Lineal')\n",
        "matrix_conf, report =predecirSVM(cls0,X_train,y_train)\n",
        "print(matrix_conf)\n",
        "print(report)\n",
        "matrix_conf, report =predecirSVM(cls0,X_test,y_test)\n",
        "print(matrix_conf)\n",
        "print(report)\n",
        "print('Clasificador Poly')\n",
        "matrix_conf1, report1 =predecirSVM(cls1,X_train,y_train)\n",
        "print(matrix_conf1)\n",
        "print(report1)\n",
        "matrix_conf1, report1 =predecirSVM(cls1,X_test,y_test)\n",
        "print(matrix_conf1)\n",
        "print(report1)\n",
        "print('Clasificador RBF')\n",
        "matrix_conf2, report2 =predecirSVM(cls2,X_train,y_train)\n",
        "print(matrix_conf2)\n",
        "print(report2)\n",
        "matrix_conf2, report2 =predecirSVM(cls2,X_test,y_test)\n",
        "print(matrix_conf2)\n",
        "print(report2)"
      ],
      "execution_count": null,
      "outputs": [
        {
          "output_type": "stream",
          "text": [
            "Clasificador Lineal\n",
            "[[ 79  18]\n",
            " [  8 107]]\n",
            "              precision    recall  f1-score   support\n",
            "\n",
            "           0       0.91      0.81      0.86        97\n",
            "           1       0.86      0.93      0.89       115\n",
            "\n",
            "    accuracy                           0.88       212\n",
            "   macro avg       0.88      0.87      0.88       212\n",
            "weighted avg       0.88      0.88      0.88       212\n",
            "\n",
            "[[34  7]\n",
            " [ 5 45]]\n",
            "              precision    recall  f1-score   support\n",
            "\n",
            "           0       0.87      0.83      0.85        41\n",
            "           1       0.87      0.90      0.88        50\n",
            "\n",
            "    accuracy                           0.87        91\n",
            "   macro avg       0.87      0.86      0.87        91\n",
            "weighted avg       0.87      0.87      0.87        91\n",
            "\n",
            "Clasificador Poly\n",
            "[[ 97   0]\n",
            " [  0 115]]\n",
            "              precision    recall  f1-score   support\n",
            "\n",
            "           0       1.00      1.00      1.00        97\n",
            "           1       1.00      1.00      1.00       115\n",
            "\n",
            "    accuracy                           1.00       212\n",
            "   macro avg       1.00      1.00      1.00       212\n",
            "weighted avg       1.00      1.00      1.00       212\n",
            "\n",
            "[[41  0]\n",
            " [ 0 50]]\n",
            "              precision    recall  f1-score   support\n",
            "\n",
            "           0       1.00      1.00      1.00        41\n",
            "           1       1.00      1.00      1.00        50\n",
            "\n",
            "    accuracy                           1.00        91\n",
            "   macro avg       1.00      1.00      1.00        91\n",
            "weighted avg       1.00      1.00      1.00        91\n",
            "\n",
            "Clasificador RBF\n",
            "[[ 97   0]\n",
            " [  0 115]]\n",
            "              precision    recall  f1-score   support\n",
            "\n",
            "           0       1.00      1.00      1.00        97\n",
            "           1       1.00      1.00      1.00       115\n",
            "\n",
            "    accuracy                           1.00       212\n",
            "   macro avg       1.00      1.00      1.00       212\n",
            "weighted avg       1.00      1.00      1.00       212\n",
            "\n",
            "[[41  0]\n",
            " [ 0 50]]\n",
            "              precision    recall  f1-score   support\n",
            "\n",
            "           0       1.00      1.00      1.00        41\n",
            "           1       1.00      1.00      1.00        50\n",
            "\n",
            "    accuracy                           1.00        91\n",
            "   macro avg       1.00      1.00      1.00        91\n",
            "weighted avg       1.00      1.00      1.00        91\n",
            "\n"
          ],
          "name": "stdout"
        }
      ]
    },
    {
      "cell_type": "code",
      "metadata": {
        "id": "xBpH_NBRTXTw",
        "colab": {
          "base_uri": "https://localhost:8080/",
          "height": 72
        },
        "outputId": "9830a464-39ef-4119-e813-1c8465df8dce"
      },
      "source": [
        "print('Clasificador Lineal')\n",
        "valPredict_train=cls0.predict(X_train).round()\n",
        "confusion_matrix_train=confusion_matrix(y_train,valPredict_train)\n",
        "valPredict_test=cls0.predict(X_test).round()\n",
        "confusion_matrix_test=confusion_matrix(y_test,valPredict_test)\n",
        "print('Clasificador Poly')\n",
        "valPredict_train1=cls1.predict(X_train).round()\n",
        "confusion_matrix_train1=confusion_matrix(y_train,valPredict_train1)\n",
        "valPredict_test1=cls1.predict(X_test).round()\n",
        "confusion_matrix_test1=confusion_matrix(y_test,valPredict_test1)\n",
        "print('Clasificador RBF')\n",
        "valPredict_train2=cls2.predict(X_train).round()\n",
        "confusion_matrix_train2=confusion_matrix(y_train,valPredict_train2)\n",
        "valPredict_test2=cls2.predict(X_test).round()\n",
        "confusion_matrix_test2=confusion_matrix(y_test,valPredict_test2)"
      ],
      "execution_count": null,
      "outputs": [
        {
          "output_type": "stream",
          "text": [
            "Clasificador Lineal\n",
            "Clasificador Poly\n",
            "Clasificador RBF\n"
          ],
          "name": "stdout"
        }
      ]
    },
    {
      "cell_type": "code",
      "metadata": {
        "id": "Rn1UEqxuTaGA",
        "colab": {
          "base_uri": "https://localhost:8080/",
          "height": 403
        },
        "outputId": "f976eb93-a0d4-4b67-ea43-9c40cae2eb54"
      },
      "source": [
        "print('Clasificador Lineal')\n",
        "print(\"===============confusion_matrix_train===============\")\n",
        "print(confusion_matrix_train)\n",
        "print(\"==============confusion_matrix_test================\")\n",
        "print(confusion_matrix_test)\n",
        "print('Clasificador Poly')\n",
        "print(\"===============confusion_matrix_train===============\")\n",
        "print(confusion_matrix_train1)\n",
        "print(\"==============confusion_matrix_test================\")\n",
        "print(confusion_matrix_test1)\n",
        "print('Clasificador RBF')\n",
        "print(\"===============confusion_matrix_train===============\")\n",
        "print(confusion_matrix_train2)\n",
        "print(\"==============confusion_matrix_test================\")\n",
        "print(confusion_matrix_test2)"
      ],
      "execution_count": null,
      "outputs": [
        {
          "output_type": "stream",
          "text": [
            "Clasificador Lineal\n",
            "===============confusion_matrix_train===============\n",
            "[[ 79  18]\n",
            " [  8 107]]\n",
            "==============confusion_matrix_test================\n",
            "[[34  7]\n",
            " [ 5 45]]\n",
            "Clasificador Poly\n",
            "===============confusion_matrix_train===============\n",
            "[[ 97   0]\n",
            " [  0 115]]\n",
            "==============confusion_matrix_test================\n",
            "[[41  0]\n",
            " [ 0 50]]\n",
            "Clasificador RBF\n",
            "===============confusion_matrix_train===============\n",
            "[[ 97   0]\n",
            " [  0 115]]\n",
            "==============confusion_matrix_test================\n",
            "[[41  0]\n",
            " [ 0 50]]\n"
          ],
          "name": "stdout"
        }
      ]
    },
    {
      "cell_type": "code",
      "metadata": {
        "id": "IvyM09k1Tezx",
        "colab": {
          "base_uri": "https://localhost:8080/",
          "height": 256
        },
        "outputId": "9d726acf-cacf-4fc9-9f06-7662b2c1b5f9"
      },
      "source": [
        "print(\"CONCLUSIONES:\")\n",
        "print('Clasificador Lineal')\n",
        "print(\"Los resultados de la evaluacion del modelo son:\")\n",
        "print(\"-Entrenamiento: \",round(score_Train,6))\n",
        "print(\"-Testeo: \",round(score_Test,6))\n",
        "print('Clasificador Poly')\n",
        "print(\"Los resultados de la evaluacion del modelo son:\")\n",
        "print(\"-Entrenamiento: \",round(score_Train1,6))\n",
        "print(\"-Testeo: \",round(score_Test1,6))\n",
        "print('Clasificador RBF')\n",
        "print(\"Los resultados de la evaluacion del modelo son:\")\n",
        "print(\"-Entrenamiento: \",round(score_Train2,6))\n",
        "print(\"-Testeo: \",round(score_Test2,6))\n"
      ],
      "execution_count": null,
      "outputs": [
        {
          "output_type": "stream",
          "text": [
            "CONCLUSIONES:\n",
            "Clasificador Lineal\n",
            "Los resultados de la evaluacion del modelo son:\n",
            "-Entrenamiento:  0.877358\n",
            "-Testeo:  0.868132\n",
            "Clasificador Poly\n",
            "Los resultados de la evaluacion del modelo son:\n",
            "-Entrenamiento:  1.0\n",
            "-Testeo:  1.0\n",
            "Clasificador RBF\n",
            "Los resultados de la evaluacion del modelo son:\n",
            "-Entrenamiento:  1.0\n",
            "-Testeo:  1.0\n"
          ],
          "name": "stdout"
        }
      ]
    },
    {
      "cell_type": "markdown",
      "metadata": {
        "id": "Mp-YN2nThHbr"
      },
      "source": [
        "**Normalización**"
      ]
    },
    {
      "cell_type": "code",
      "metadata": {
        "id": "Ntd7-9BnhHBC"
      },
      "source": [
        "#Estandarizamos los datos\n",
        "from sklearn.preprocessing import MinMaxScaler,StandardScaler\n",
        "sc = MinMaxScaler()\n",
        "x = sc.fit_transform(x)"
      ],
      "execution_count": null,
      "outputs": []
    },
    {
      "cell_type": "code",
      "metadata": {
        "id": "7AbZGuC0kORf"
      },
      "source": [
        "#Dividimos los datos\n",
        "X_train, X_test, y_train, y_test = train_test_split(x, y, test_size=0.3, random_state=42)"
      ],
      "execution_count": null,
      "outputs": []
    },
    {
      "cell_type": "code",
      "metadata": {
        "id": "TgTuKLnuhGVf"
      },
      "source": [
        "# Se ejecuta el clafificador para generar el modelo\n",
        "cls0=clasificadorSVM(\"linear\",x,y) #Lineal\n",
        "cls1=clasificadorSVM(\"poly\",x,y) #Poly\n",
        "cls2=clasificadorSVM(\"rbf\",x,y) #rbf"
      ],
      "execution_count": null,
      "outputs": []
    },
    {
      "cell_type": "code",
      "metadata": {
        "id": "sAierh55hGIt",
        "colab": {
          "base_uri": "https://localhost:8080/",
          "height": 182
        },
        "outputId": "044cd696-986d-48d9-f920-69495f186320"
      },
      "source": [
        "#Se obtiene y se imprime medidas de Rendimiento\n",
        "print('Clasificador Lineal')\n",
        "score_Train=resultadosSVM(cls0,X_train,y_train)\n",
        "print(round(score_Train,6))\n",
        "score_Test=resultadosSVM(cls0,X_test,y_test)\n",
        "print(round(score_Test,6))\n",
        "print('Clasificador Poly')\n",
        "score_Train1=resultadosSVM(cls1,X_train,y_train)\n",
        "print(round(score_Train1,6))\n",
        "score_Test1=resultadosSVM(cls1,X_test,y_test)\n",
        "print(round(score_Test1,6))\n",
        "print('Clasificador Rbf')\n",
        "score_Train2=resultadosSVM(cls2,X_train,y_train)\n",
        "print(round(score_Train2,6))\n",
        "score_Test2=resultadosSVM(cls2,X_test,y_test)\n",
        "print(round(score_Test2,6))"
      ],
      "execution_count": null,
      "outputs": [
        {
          "output_type": "stream",
          "text": [
            "Clasificador Lineal\n",
            "0.872642\n",
            "0.879121\n",
            "Clasificador Poly\n",
            "1.0\n",
            "1.0\n",
            "Clasificador Rbf\n",
            "0.995283\n",
            "1.0\n"
          ],
          "name": "stdout"
        }
      ]
    },
    {
      "cell_type": "code",
      "metadata": {
        "id": "3-scnZUwjRSK",
        "colab": {
          "base_uri": "https://localhost:8080/",
          "height": 1000
        },
        "outputId": "af93e481-8e4e-44c7-941f-40536da6cf70"
      },
      "source": [
        "#Se obtiene y se imprime la matrices de confusion\n",
        "print('Clasificador Lineal')\n",
        "matrix_conf, report =predecirSVM(cls0,X_train,y_train)\n",
        "print(matrix_conf)\n",
        "print(report)\n",
        "matrix_conf, report =predecirSVM(cls0,X_test,y_test)\n",
        "print(matrix_conf)\n",
        "print(report)\n",
        "print('Clasificador Poly')\n",
        "matrix_conf1, report1 =predecirSVM(cls1,X_train,y_train)\n",
        "print(matrix_conf1)\n",
        "print(report1)\n",
        "matrix_conf1, report1 =predecirSVM(cls1,X_test,y_test)\n",
        "print(matrix_conf1)\n",
        "print(report1)\n",
        "print('Clasificador RBF')\n",
        "matrix_conf2, report2 =predecirSVM(cls2,X_train,y_train)\n",
        "print(matrix_conf2)\n",
        "print(report2)\n",
        "matrix_conf2, report2 =predecirSVM(cls2,X_test,y_test)\n",
        "print(matrix_conf2)\n",
        "print(report2)"
      ],
      "execution_count": null,
      "outputs": [
        {
          "output_type": "stream",
          "text": [
            "Clasificador Lineal\n",
            "[[ 79  18]\n",
            " [  9 106]]\n",
            "              precision    recall  f1-score   support\n",
            "\n",
            "           0       0.90      0.81      0.85        97\n",
            "           1       0.85      0.92      0.89       115\n",
            "\n",
            "    accuracy                           0.87       212\n",
            "   macro avg       0.88      0.87      0.87       212\n",
            "weighted avg       0.87      0.87      0.87       212\n",
            "\n",
            "[[34  7]\n",
            " [ 4 46]]\n",
            "              precision    recall  f1-score   support\n",
            "\n",
            "           0       0.89      0.83      0.86        41\n",
            "           1       0.87      0.92      0.89        50\n",
            "\n",
            "    accuracy                           0.88        91\n",
            "   macro avg       0.88      0.87      0.88        91\n",
            "weighted avg       0.88      0.88      0.88        91\n",
            "\n",
            "Clasificador Poly\n",
            "[[ 97   0]\n",
            " [  0 115]]\n",
            "              precision    recall  f1-score   support\n",
            "\n",
            "           0       1.00      1.00      1.00        97\n",
            "           1       1.00      1.00      1.00       115\n",
            "\n",
            "    accuracy                           1.00       212\n",
            "   macro avg       1.00      1.00      1.00       212\n",
            "weighted avg       1.00      1.00      1.00       212\n",
            "\n",
            "[[41  0]\n",
            " [ 0 50]]\n",
            "              precision    recall  f1-score   support\n",
            "\n",
            "           0       1.00      1.00      1.00        41\n",
            "           1       1.00      1.00      1.00        50\n",
            "\n",
            "    accuracy                           1.00        91\n",
            "   macro avg       1.00      1.00      1.00        91\n",
            "weighted avg       1.00      1.00      1.00        91\n",
            "\n",
            "Clasificador RBF\n",
            "[[ 96   1]\n",
            " [  0 115]]\n",
            "              precision    recall  f1-score   support\n",
            "\n",
            "           0       1.00      0.99      0.99        97\n",
            "           1       0.99      1.00      1.00       115\n",
            "\n",
            "    accuracy                           1.00       212\n",
            "   macro avg       1.00      0.99      1.00       212\n",
            "weighted avg       1.00      1.00      1.00       212\n",
            "\n",
            "[[41  0]\n",
            " [ 0 50]]\n",
            "              precision    recall  f1-score   support\n",
            "\n",
            "           0       1.00      1.00      1.00        41\n",
            "           1       1.00      1.00      1.00        50\n",
            "\n",
            "    accuracy                           1.00        91\n",
            "   macro avg       1.00      1.00      1.00        91\n",
            "weighted avg       1.00      1.00      1.00        91\n",
            "\n"
          ],
          "name": "stdout"
        }
      ]
    },
    {
      "cell_type": "code",
      "metadata": {
        "id": "e-JJtNqSjUlZ",
        "colab": {
          "base_uri": "https://localhost:8080/",
          "height": 72
        },
        "outputId": "a1ceb778-6dcf-4aa6-843e-39077f218d2f"
      },
      "source": [
        "print('Clasificador Lineal')\n",
        "valPredict_train=cls0.predict(X_train).round()\n",
        "confusion_matrix_train=confusion_matrix(y_train,valPredict_train)\n",
        "valPredict_test=cls0.predict(X_test).round()\n",
        "confusion_matrix_test=confusion_matrix(y_test,valPredict_test)\n",
        "print('Clasificador Poly')\n",
        "valPredict_train1=cls1.predict(X_train).round()\n",
        "confusion_matrix_train1=confusion_matrix(y_train,valPredict_train1)\n",
        "valPredict_test1=cls1.predict(X_test).round()\n",
        "confusion_matrix_test1=confusion_matrix(y_test,valPredict_test1)\n",
        "print('Clasificador RBF')\n",
        "valPredict_train2=cls2.predict(X_train).round()\n",
        "confusion_matrix_train2=confusion_matrix(y_train,valPredict_train2)\n",
        "valPredict_test2=cls2.predict(X_test).round()\n",
        "confusion_matrix_test2=confusion_matrix(y_test,valPredict_test2)"
      ],
      "execution_count": null,
      "outputs": [
        {
          "output_type": "stream",
          "text": [
            "Clasificador Lineal\n",
            "Clasificador Poly\n",
            "Clasificador RBF\n"
          ],
          "name": "stdout"
        }
      ]
    },
    {
      "cell_type": "code",
      "metadata": {
        "id": "qLDKEBCYjXp9",
        "colab": {
          "base_uri": "https://localhost:8080/",
          "height": 403
        },
        "outputId": "4ef74f69-a14f-49d1-c289-73329dc898e4"
      },
      "source": [
        "print('Clasificador Lineal')\n",
        "print(\"===============confusion_matrix_train===============\")\n",
        "print(confusion_matrix_train)\n",
        "print(\"==============confusion_matrix_test================\")\n",
        "print(confusion_matrix_test)\n",
        "print('Clasificador Poly')\n",
        "print(\"===============confusion_matrix_train===============\")\n",
        "print(confusion_matrix_train1)\n",
        "print(\"==============confusion_matrix_test================\")\n",
        "print(confusion_matrix_test1)\n",
        "print('Clasificador RBF')\n",
        "print(\"===============confusion_matrix_train===============\")\n",
        "print(confusion_matrix_train2)\n",
        "print(\"==============confusion_matrix_test================\")\n",
        "print(confusion_matrix_test2)"
      ],
      "execution_count": null,
      "outputs": [
        {
          "output_type": "stream",
          "text": [
            "Clasificador Lineal\n",
            "===============confusion_matrix_train===============\n",
            "[[ 79  18]\n",
            " [  9 106]]\n",
            "==============confusion_matrix_test================\n",
            "[[34  7]\n",
            " [ 4 46]]\n",
            "Clasificador Poly\n",
            "===============confusion_matrix_train===============\n",
            "[[ 97   0]\n",
            " [  0 115]]\n",
            "==============confusion_matrix_test================\n",
            "[[41  0]\n",
            " [ 0 50]]\n",
            "Clasificador RBF\n",
            "===============confusion_matrix_train===============\n",
            "[[ 96   1]\n",
            " [  0 115]]\n",
            "==============confusion_matrix_test================\n",
            "[[41  0]\n",
            " [ 0 50]]\n"
          ],
          "name": "stdout"
        }
      ]
    },
    {
      "cell_type": "code",
      "metadata": {
        "id": "homap-4ujbR5",
        "colab": {
          "base_uri": "https://localhost:8080/",
          "height": 256
        },
        "outputId": "b4172b09-9c9f-4aee-de46-8e12c3b25c4a"
      },
      "source": [
        "print(\"CONCLUSIONES:\")\n",
        "print('Clasificador Lineal')\n",
        "print(\"Los resultados de la evaluacion del modelo son:\")\n",
        "print(\"-Entrenamiento: \",round(score_Train,6))\n",
        "print(\"-Testeo: \",round(score_Test,6))\n",
        "print('Clasificador Poly')\n",
        "print(\"Los resultados de la evaluacion del modelo son:\")\n",
        "print(\"-Entrenamiento: \",round(score_Train1,6))\n",
        "print(\"-Testeo: \",round(score_Test1,6))\n",
        "print('Clasificador RBF')\n",
        "print(\"Los resultados de la evaluacion del modelo son:\")\n",
        "print(\"-Entrenamiento: \",round(score_Train2,6))\n",
        "print(\"-Testeo: \",round(score_Test2,6))\n"
      ],
      "execution_count": null,
      "outputs": [
        {
          "output_type": "stream",
          "text": [
            "CONCLUSIONES:\n",
            "Clasificador Lineal\n",
            "Los resultados de la evaluacion del modelo son:\n",
            "-Entrenamiento:  0.872642\n",
            "-Testeo:  0.879121\n",
            "Clasificador Poly\n",
            "Los resultados de la evaluacion del modelo son:\n",
            "-Entrenamiento:  1.0\n",
            "-Testeo:  1.0\n",
            "Clasificador RBF\n",
            "Los resultados de la evaluacion del modelo son:\n",
            "-Entrenamiento:  0.995283\n",
            "-Testeo:  1.0\n"
          ],
          "name": "stdout"
        }
      ]
    },
    {
      "cell_type": "markdown",
      "metadata": {
        "id": "AUYMgU-ZlkIs"
      },
      "source": [
        "Luego de haber configurado varios tipos de redes neuronales, los mejores resultados han dado el modelo entrenado con SVM con KERNEL='Poly' , ya sea Estandarizando o Normalizando los datos"
      ]
    }
  ]
}